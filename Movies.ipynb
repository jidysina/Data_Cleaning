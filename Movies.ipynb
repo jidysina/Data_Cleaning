{
 "cells": [
  {
   "cell_type": "markdown",
   "id": "6bb80ada-ed7e-446f-a2d2-c65dd215dcdb",
   "metadata": {},
   "source": [
    "## Movies Data Preprocessing\n",
    "- Datasets has lots of text columns and a few numerical column\n",
    "- 9999 rows by 9 columns\n",
    "- Columns includes movies names, year, genre, rating, one-line, stars, votes, runtime and gross"
   ]
  },
  {
   "cell_type": "markdown",
   "id": "e44dd073-0590-46bf-95c2-bb9f7110a0e4",
   "metadata": {},
   "source": [
    "### Pseudocodes¶\n",
    "- import the necessary libraries\n",
    "- import dataset\n",
    "- check through for abnormalities and handle them all\n",
    "- check for correlation\n",
    "- print out your cleaned dataset\n",
    "- train-test split\n",
    "- build a machine learning model\n",
    "- evaluate the performance"
   ]
  },
  {
   "cell_type": "code",
   "execution_count": 3,
   "id": "2f881597-c737-4bb2-8807-d607838c3756",
   "metadata": {},
   "outputs": [],
   "source": [
    "#importing necessary modules\n",
    "import pandas as pd\n",
    "import numpy as np\n",
    "import seaborn as sb\n",
    "import matplotlib.pyplot as plt"
   ]
  },
  {
   "cell_type": "code",
   "execution_count": 4,
   "id": "a0abd303-e277-4950-82ae-1bbf3f043c39",
   "metadata": {},
   "outputs": [],
   "source": [
    "#reading dataset into the notebook\n",
    "df = pd.read_csv(r'C:\\Users\\pc\\Desktop\\pythonclass\\Aptech\\DataAnalytics\\DataSets\\movies.csv')"
   ]
  },
  {
   "cell_type": "code",
   "execution_count": 5,
   "id": "ca25489f-2343-4e0b-9878-c847be51f223",
   "metadata": {},
   "outputs": [
    {
     "data": {
      "text/html": [
       "<div>\n",
       "<style scoped>\n",
       "    .dataframe tbody tr th:only-of-type {\n",
       "        vertical-align: middle;\n",
       "    }\n",
       "\n",
       "    .dataframe tbody tr th {\n",
       "        vertical-align: top;\n",
       "    }\n",
       "\n",
       "    .dataframe thead th {\n",
       "        text-align: right;\n",
       "    }\n",
       "</style>\n",
       "<table border=\"1\" class=\"dataframe\">\n",
       "  <thead>\n",
       "    <tr style=\"text-align: right;\">\n",
       "      <th></th>\n",
       "      <th>MOVIES</th>\n",
       "      <th>YEAR</th>\n",
       "      <th>GENRE</th>\n",
       "      <th>RATING</th>\n",
       "      <th>ONE-LINE</th>\n",
       "      <th>STARS</th>\n",
       "      <th>VOTES</th>\n",
       "      <th>RunTime</th>\n",
       "      <th>Gross</th>\n",
       "    </tr>\n",
       "  </thead>\n",
       "  <tbody>\n",
       "    <tr>\n",
       "      <th>0</th>\n",
       "      <td>Blood Red Sky</td>\n",
       "      <td>(2021)</td>\n",
       "      <td>\\r\\nAction, Horror, Thriller</td>\n",
       "      <td>6.1</td>\n",
       "      <td>\\r\\nA woman with a mysterious illness is force...</td>\n",
       "      <td>\\r\\n    Director:\\r\\nPeter Thorwarth\\r\\n| \\r\\n...</td>\n",
       "      <td>21,062</td>\n",
       "      <td>121.0</td>\n",
       "      <td>NaN</td>\n",
       "    </tr>\n",
       "    <tr>\n",
       "      <th>1</th>\n",
       "      <td>Masters of the Universe: Revelation</td>\n",
       "      <td>(2021– )</td>\n",
       "      <td>\\r\\nAnimation, Action, Adventure</td>\n",
       "      <td>5.0</td>\n",
       "      <td>\\r\\nThe war for Eternia begins again in what m...</td>\n",
       "      <td>\\r\\n            \\r\\n    Stars:\\r\\nChris Wood, ...</td>\n",
       "      <td>17,870</td>\n",
       "      <td>25.0</td>\n",
       "      <td>NaN</td>\n",
       "    </tr>\n",
       "    <tr>\n",
       "      <th>2</th>\n",
       "      <td>The Walking Dead</td>\n",
       "      <td>(2010–2022)</td>\n",
       "      <td>\\r\\nDrama, Horror, Thriller</td>\n",
       "      <td>8.2</td>\n",
       "      <td>\\r\\nSheriff Deputy Rick Grimes wakes up from a...</td>\n",
       "      <td>\\r\\n            \\r\\n    Stars:\\r\\nAndrew Linco...</td>\n",
       "      <td>885,805</td>\n",
       "      <td>44.0</td>\n",
       "      <td>NaN</td>\n",
       "    </tr>\n",
       "    <tr>\n",
       "      <th>3</th>\n",
       "      <td>Rick and Morty</td>\n",
       "      <td>(2013– )</td>\n",
       "      <td>\\r\\nAnimation, Adventure, Comedy</td>\n",
       "      <td>9.2</td>\n",
       "      <td>\\r\\nAn animated series that follows the exploi...</td>\n",
       "      <td>\\r\\n            \\r\\n    Stars:\\r\\nJustin Roila...</td>\n",
       "      <td>414,849</td>\n",
       "      <td>23.0</td>\n",
       "      <td>NaN</td>\n",
       "    </tr>\n",
       "    <tr>\n",
       "      <th>4</th>\n",
       "      <td>Army of Thieves</td>\n",
       "      <td>(2021)</td>\n",
       "      <td>\\r\\nAction, Crime, Horror</td>\n",
       "      <td>NaN</td>\n",
       "      <td>\\r\\nA prequel, set before the events of Army o...</td>\n",
       "      <td>\\r\\n    Director:\\r\\nMatthias Schweighöfer\\r\\n...</td>\n",
       "      <td>NaN</td>\n",
       "      <td>NaN</td>\n",
       "      <td>NaN</td>\n",
       "    </tr>\n",
       "  </tbody>\n",
       "</table>\n",
       "</div>"
      ],
      "text/plain": [
       "                                MOVIES         YEAR  \\\n",
       "0                        Blood Red Sky       (2021)   \n",
       "1  Masters of the Universe: Revelation     (2021– )   \n",
       "2                     The Walking Dead  (2010–2022)   \n",
       "3                       Rick and Morty     (2013– )   \n",
       "4                      Army of Thieves       (2021)   \n",
       "\n",
       "                                          GENRE  RATING  \\\n",
       "0      \\r\\nAction, Horror, Thriller                 6.1   \n",
       "1  \\r\\nAnimation, Action, Adventure                 5.0   \n",
       "2       \\r\\nDrama, Horror, Thriller                 8.2   \n",
       "3  \\r\\nAnimation, Adventure, Comedy                 9.2   \n",
       "4         \\r\\nAction, Crime, Horror                 NaN   \n",
       "\n",
       "                                            ONE-LINE  \\\n",
       "0  \\r\\nA woman with a mysterious illness is force...   \n",
       "1  \\r\\nThe war for Eternia begins again in what m...   \n",
       "2  \\r\\nSheriff Deputy Rick Grimes wakes up from a...   \n",
       "3  \\r\\nAn animated series that follows the exploi...   \n",
       "4  \\r\\nA prequel, set before the events of Army o...   \n",
       "\n",
       "                                               STARS    VOTES  RunTime Gross  \n",
       "0  \\r\\n    Director:\\r\\nPeter Thorwarth\\r\\n| \\r\\n...   21,062    121.0   NaN  \n",
       "1  \\r\\n            \\r\\n    Stars:\\r\\nChris Wood, ...   17,870     25.0   NaN  \n",
       "2  \\r\\n            \\r\\n    Stars:\\r\\nAndrew Linco...  885,805     44.0   NaN  \n",
       "3  \\r\\n            \\r\\n    Stars:\\r\\nJustin Roila...  414,849     23.0   NaN  \n",
       "4  \\r\\n    Director:\\r\\nMatthias Schweighöfer\\r\\n...      NaN      NaN   NaN  "
      ]
     },
     "execution_count": 5,
     "metadata": {},
     "output_type": "execute_result"
    }
   ],
   "source": [
    "#to show the first 5 entries in the data\n",
    "df.head()"
   ]
  },
  {
   "cell_type": "code",
   "execution_count": 6,
   "id": "eb68167f-373e-4737-93a5-49785e7c5b04",
   "metadata": {},
   "outputs": [
    {
     "data": {
      "text/html": [
       "<div>\n",
       "<style scoped>\n",
       "    .dataframe tbody tr th:only-of-type {\n",
       "        vertical-align: middle;\n",
       "    }\n",
       "\n",
       "    .dataframe tbody tr th {\n",
       "        vertical-align: top;\n",
       "    }\n",
       "\n",
       "    .dataframe thead th {\n",
       "        text-align: right;\n",
       "    }\n",
       "</style>\n",
       "<table border=\"1\" class=\"dataframe\">\n",
       "  <thead>\n",
       "    <tr style=\"text-align: right;\">\n",
       "      <th></th>\n",
       "      <th>MOVIES</th>\n",
       "      <th>YEAR</th>\n",
       "      <th>GENRE</th>\n",
       "      <th>RATING</th>\n",
       "      <th>ONE-LINE</th>\n",
       "      <th>STARS</th>\n",
       "      <th>VOTES</th>\n",
       "      <th>RunTime</th>\n",
       "      <th>Gross</th>\n",
       "    </tr>\n",
       "  </thead>\n",
       "  <tbody>\n",
       "    <tr>\n",
       "      <th>9994</th>\n",
       "      <td>The Imperfects</td>\n",
       "      <td>(2021– )</td>\n",
       "      <td>\\r\\nAdventure, Drama, Fantasy</td>\n",
       "      <td>NaN</td>\n",
       "      <td>\\r\\nAdd a Plot\\r\\n</td>\n",
       "      <td>\\r\\n            \\r\\n    Stars:\\r\\nMorgan Taylo...</td>\n",
       "      <td>NaN</td>\n",
       "      <td>NaN</td>\n",
       "      <td>NaN</td>\n",
       "    </tr>\n",
       "    <tr>\n",
       "      <th>9995</th>\n",
       "      <td>Arcane</td>\n",
       "      <td>(2021– )</td>\n",
       "      <td>\\r\\nAnimation, Action, Adventure</td>\n",
       "      <td>NaN</td>\n",
       "      <td>\\r\\nAdd a Plot\\r\\n</td>\n",
       "      <td>\\r\\n</td>\n",
       "      <td>NaN</td>\n",
       "      <td>NaN</td>\n",
       "      <td>NaN</td>\n",
       "    </tr>\n",
       "    <tr>\n",
       "      <th>9996</th>\n",
       "      <td>Heart of Invictus</td>\n",
       "      <td>(2022– )</td>\n",
       "      <td>\\r\\nDocumentary, Sport</td>\n",
       "      <td>NaN</td>\n",
       "      <td>\\r\\nAdd a Plot\\r\\n</td>\n",
       "      <td>\\r\\n    Director:\\r\\nOrlando von Einsiedel\\r\\n...</td>\n",
       "      <td>NaN</td>\n",
       "      <td>NaN</td>\n",
       "      <td>NaN</td>\n",
       "    </tr>\n",
       "    <tr>\n",
       "      <th>9997</th>\n",
       "      <td>The Imperfects</td>\n",
       "      <td>(2021– )</td>\n",
       "      <td>\\r\\nAdventure, Drama, Fantasy</td>\n",
       "      <td>NaN</td>\n",
       "      <td>\\r\\nAdd a Plot\\r\\n</td>\n",
       "      <td>\\r\\n    Director:\\r\\nJovanka Vuckovic\\r\\n| \\r\\...</td>\n",
       "      <td>NaN</td>\n",
       "      <td>NaN</td>\n",
       "      <td>NaN</td>\n",
       "    </tr>\n",
       "    <tr>\n",
       "      <th>9998</th>\n",
       "      <td>The Imperfects</td>\n",
       "      <td>(2021– )</td>\n",
       "      <td>\\r\\nAdventure, Drama, Fantasy</td>\n",
       "      <td>NaN</td>\n",
       "      <td>\\r\\nAdd a Plot\\r\\n</td>\n",
       "      <td>\\r\\n    Director:\\r\\nJovanka Vuckovic\\r\\n| \\r\\...</td>\n",
       "      <td>NaN</td>\n",
       "      <td>NaN</td>\n",
       "      <td>NaN</td>\n",
       "    </tr>\n",
       "  </tbody>\n",
       "</table>\n",
       "</div>"
      ],
      "text/plain": [
       "                  MOVIES      YEAR  \\\n",
       "9994      The Imperfects  (2021– )   \n",
       "9995              Arcane  (2021– )   \n",
       "9996   Heart of Invictus  (2022– )   \n",
       "9997      The Imperfects  (2021– )   \n",
       "9998      The Imperfects  (2021– )   \n",
       "\n",
       "                                             GENRE  RATING  \\\n",
       "9994     \\r\\nAdventure, Drama, Fantasy                 NaN   \n",
       "9995  \\r\\nAnimation, Action, Adventure                 NaN   \n",
       "9996            \\r\\nDocumentary, Sport                 NaN   \n",
       "9997     \\r\\nAdventure, Drama, Fantasy                 NaN   \n",
       "9998     \\r\\nAdventure, Drama, Fantasy                 NaN   \n",
       "\n",
       "                ONE-LINE                                              STARS  \\\n",
       "9994  \\r\\nAdd a Plot\\r\\n  \\r\\n            \\r\\n    Stars:\\r\\nMorgan Taylo...   \n",
       "9995  \\r\\nAdd a Plot\\r\\n                                               \\r\\n   \n",
       "9996  \\r\\nAdd a Plot\\r\\n  \\r\\n    Director:\\r\\nOrlando von Einsiedel\\r\\n...   \n",
       "9997  \\r\\nAdd a Plot\\r\\n  \\r\\n    Director:\\r\\nJovanka Vuckovic\\r\\n| \\r\\...   \n",
       "9998  \\r\\nAdd a Plot\\r\\n  \\r\\n    Director:\\r\\nJovanka Vuckovic\\r\\n| \\r\\...   \n",
       "\n",
       "     VOTES  RunTime Gross  \n",
       "9994   NaN      NaN   NaN  \n",
       "9995   NaN      NaN   NaN  \n",
       "9996   NaN      NaN   NaN  \n",
       "9997   NaN      NaN   NaN  \n",
       "9998   NaN      NaN   NaN  "
      ]
     },
     "execution_count": 6,
     "metadata": {},
     "output_type": "execute_result"
    }
   ],
   "source": [
    "#to show the last 5 entries in the data\n",
    "df.tail()"
   ]
  },
  {
   "cell_type": "code",
   "execution_count": 7,
   "id": "da393d5a-9210-4dfd-927d-5d2e0cae208e",
   "metadata": {},
   "outputs": [
    {
     "data": {
      "text/plain": [
       "(9999, 9)"
      ]
     },
     "execution_count": 7,
     "metadata": {},
     "output_type": "execute_result"
    }
   ],
   "source": [
    "#to show the shape of the dataset\n",
    "df.shape"
   ]
  },
  {
   "cell_type": "code",
   "execution_count": 8,
   "id": "4c1b7208-2069-4d9e-8b29-ee52147a7f81",
   "metadata": {},
   "outputs": [
    {
     "data": {
      "text/plain": [
       "89991"
      ]
     },
     "execution_count": 8,
     "metadata": {},
     "output_type": "execute_result"
    }
   ],
   "source": [
    "#to show the number of elements in the dataset\n",
    "df.size"
   ]
  },
  {
   "cell_type": "code",
   "execution_count": 9,
   "id": "657b9132-b22c-4029-a144-9b711651c492",
   "metadata": {},
   "outputs": [
    {
     "data": {
      "text/plain": [
       "Index(['MOVIES', 'YEAR', 'GENRE', 'RATING', 'ONE-LINE', 'STARS', 'VOTES',\n",
       "       'RunTime', 'Gross'],\n",
       "      dtype='object')"
      ]
     },
     "execution_count": 9,
     "metadata": {},
     "output_type": "execute_result"
    }
   ],
   "source": [
    "#to show column names\n",
    "df.columns"
   ]
  },
  {
   "cell_type": "code",
   "execution_count": 10,
   "id": "bae40059-c247-4aed-9ed4-01150618d441",
   "metadata": {},
   "outputs": [
    {
     "data": {
      "text/plain": [
       "MOVIES       object\n",
       "YEAR         object\n",
       "GENRE        object\n",
       "RATING      float64\n",
       "ONE-LINE     object\n",
       "STARS        object\n",
       "VOTES        object\n",
       "RunTime     float64\n",
       "Gross        object\n",
       "dtype: object"
      ]
     },
     "execution_count": 10,
     "metadata": {},
     "output_type": "execute_result"
    }
   ],
   "source": [
    "#to show the data type of each column\n",
    "df.dtypes"
   ]
  },
  {
   "cell_type": "code",
   "execution_count": 11,
   "id": "e8cde3fd-5cda-4704-99ba-0c7ef2ba860d",
   "metadata": {},
   "outputs": [
    {
     "name": "stdout",
     "output_type": "stream",
     "text": [
      "<class 'pandas.core.frame.DataFrame'>\n",
      "RangeIndex: 9999 entries, 0 to 9998\n",
      "Data columns (total 9 columns):\n",
      " #   Column    Non-Null Count  Dtype  \n",
      "---  ------    --------------  -----  \n",
      " 0   MOVIES    9999 non-null   object \n",
      " 1   YEAR      9355 non-null   object \n",
      " 2   GENRE     9919 non-null   object \n",
      " 3   RATING    8179 non-null   float64\n",
      " 4   ONE-LINE  9999 non-null   object \n",
      " 5   STARS     9999 non-null   object \n",
      " 6   VOTES     8179 non-null   object \n",
      " 7   RunTime   7041 non-null   float64\n",
      " 8   Gross     460 non-null    object \n",
      "dtypes: float64(2), object(7)\n",
      "memory usage: 703.2+ KB\n"
     ]
    }
   ],
   "source": [
    "#to show dataset information all at once\n",
    "df.info()"
   ]
  },
  {
   "cell_type": "markdown",
   "id": "6175edfa-3884-4166-b09b-f40037c132c1",
   "metadata": {},
   "source": [
    "### Removing duplicate rows \n",
    "- There are many duplicate rows. I'll first check if there are any then remove them using code\n",
    "- check using df[df.duplicated()]\n",
    "- remove using df.drop_duplicates(inplace=True)"
   ]
  },
  {
   "cell_type": "code",
   "execution_count": 13,
   "id": "db492f7c-ae49-44c4-b1bf-11743106657a",
   "metadata": {},
   "outputs": [
    {
     "data": {
      "text/html": [
       "<div>\n",
       "<style scoped>\n",
       "    .dataframe tbody tr th:only-of-type {\n",
       "        vertical-align: middle;\n",
       "    }\n",
       "\n",
       "    .dataframe tbody tr th {\n",
       "        vertical-align: top;\n",
       "    }\n",
       "\n",
       "    .dataframe thead th {\n",
       "        text-align: right;\n",
       "    }\n",
       "</style>\n",
       "<table border=\"1\" class=\"dataframe\">\n",
       "  <thead>\n",
       "    <tr style=\"text-align: right;\">\n",
       "      <th></th>\n",
       "      <th>MOVIES</th>\n",
       "      <th>YEAR</th>\n",
       "      <th>GENRE</th>\n",
       "      <th>RATING</th>\n",
       "      <th>ONE-LINE</th>\n",
       "      <th>STARS</th>\n",
       "      <th>VOTES</th>\n",
       "      <th>RunTime</th>\n",
       "      <th>Gross</th>\n",
       "    </tr>\n",
       "  </thead>\n",
       "  <tbody>\n",
       "    <tr>\n",
       "      <th>0</th>\n",
       "      <td>Blood Red Sky</td>\n",
       "      <td>(2021)</td>\n",
       "      <td>\\r\\nAction, Horror, Thriller</td>\n",
       "      <td>6.1</td>\n",
       "      <td>\\r\\nA woman with a mysterious illness is force...</td>\n",
       "      <td>\\r\\n    Director:\\r\\nPeter Thorwarth\\r\\n| \\r\\n...</td>\n",
       "      <td>21,062</td>\n",
       "      <td>121.0</td>\n",
       "      <td>NaN</td>\n",
       "    </tr>\n",
       "    <tr>\n",
       "      <th>1</th>\n",
       "      <td>Masters of the Universe: Revelation</td>\n",
       "      <td>(2021– )</td>\n",
       "      <td>\\r\\nAnimation, Action, Adventure</td>\n",
       "      <td>5.0</td>\n",
       "      <td>\\r\\nThe war for Eternia begins again in what m...</td>\n",
       "      <td>\\r\\n            \\r\\n    Stars:\\r\\nChris Wood, ...</td>\n",
       "      <td>17,870</td>\n",
       "      <td>25.0</td>\n",
       "      <td>NaN</td>\n",
       "    </tr>\n",
       "  </tbody>\n",
       "</table>\n",
       "</div>"
      ],
      "text/plain": [
       "                                MOVIES      YEAR  \\\n",
       "0                        Blood Red Sky    (2021)   \n",
       "1  Masters of the Universe: Revelation  (2021– )   \n",
       "\n",
       "                                          GENRE  RATING  \\\n",
       "0      \\r\\nAction, Horror, Thriller                 6.1   \n",
       "1  \\r\\nAnimation, Action, Adventure                 5.0   \n",
       "\n",
       "                                            ONE-LINE  \\\n",
       "0  \\r\\nA woman with a mysterious illness is force...   \n",
       "1  \\r\\nThe war for Eternia begins again in what m...   \n",
       "\n",
       "                                               STARS   VOTES  RunTime Gross  \n",
       "0  \\r\\n    Director:\\r\\nPeter Thorwarth\\r\\n| \\r\\n...  21,062    121.0   NaN  \n",
       "1  \\r\\n            \\r\\n    Stars:\\r\\nChris Wood, ...  17,870     25.0   NaN  "
      ]
     },
     "execution_count": 13,
     "metadata": {},
     "output_type": "execute_result"
    }
   ],
   "source": [
    "df.head(2)"
   ]
  },
  {
   "cell_type": "code",
   "execution_count": 14,
   "id": "ad09cd04-b1eb-4d02-958a-37283e7579d6",
   "metadata": {},
   "outputs": [
    {
     "data": {
      "text/plain": [
       "(9999, 9)"
      ]
     },
     "execution_count": 14,
     "metadata": {},
     "output_type": "execute_result"
    }
   ],
   "source": [
    "df.shape"
   ]
  },
  {
   "cell_type": "code",
   "execution_count": 15,
   "id": "d21754d0-fd68-48ee-81af-dd13817f2cd6",
   "metadata": {},
   "outputs": [],
   "source": [
    "#to detect duplicates row-wise \n",
    "#returns a boolean value for all rows\n",
    "# df.duplicated()"
   ]
  },
  {
   "cell_type": "code",
   "execution_count": 16,
   "id": "31086b0c-1c51-444e-9632-ff6beb5b8dac",
   "metadata": {},
   "outputs": [
    {
     "data": {
      "text/html": [
       "<div>\n",
       "<style scoped>\n",
       "    .dataframe tbody tr th:only-of-type {\n",
       "        vertical-align: middle;\n",
       "    }\n",
       "\n",
       "    .dataframe tbody tr th {\n",
       "        vertical-align: top;\n",
       "    }\n",
       "\n",
       "    .dataframe thead th {\n",
       "        text-align: right;\n",
       "    }\n",
       "</style>\n",
       "<table border=\"1\" class=\"dataframe\">\n",
       "  <thead>\n",
       "    <tr style=\"text-align: right;\">\n",
       "      <th></th>\n",
       "      <th>MOVIES</th>\n",
       "      <th>YEAR</th>\n",
       "      <th>GENRE</th>\n",
       "      <th>RATING</th>\n",
       "      <th>ONE-LINE</th>\n",
       "      <th>STARS</th>\n",
       "      <th>VOTES</th>\n",
       "      <th>RunTime</th>\n",
       "      <th>Gross</th>\n",
       "    </tr>\n",
       "  </thead>\n",
       "  <tbody>\n",
       "    <tr>\n",
       "      <th>6833</th>\n",
       "      <td>Mighty Little Bheem</td>\n",
       "      <td>(2019– )</td>\n",
       "      <td>\\r\\nAnimation, Short, Adventure</td>\n",
       "      <td>NaN</td>\n",
       "      <td>\\r\\nAdd a Plot\\r\\n</td>\n",
       "      <td>\\r\\n    Directors:\\r\\nRajiv Chilaka, \\r\\nKrish...</td>\n",
       "      <td>NaN</td>\n",
       "      <td>NaN</td>\n",
       "      <td>NaN</td>\n",
       "    </tr>\n",
       "    <tr>\n",
       "      <th>6835</th>\n",
       "      <td>Mighty Little Bheem</td>\n",
       "      <td>(2019– )</td>\n",
       "      <td>\\r\\nAnimation, Short, Adventure</td>\n",
       "      <td>9.0</td>\n",
       "      <td>\\r\\nAdd a Plot\\r\\n</td>\n",
       "      <td>\\r\\n    Directors:\\r\\nRajiv Chilaka, \\r\\nKrish...</td>\n",
       "      <td>6</td>\n",
       "      <td>NaN</td>\n",
       "      <td>NaN</td>\n",
       "    </tr>\n",
       "    <tr>\n",
       "      <th>6836</th>\n",
       "      <td>Mighty Little Bheem</td>\n",
       "      <td>(2019– )</td>\n",
       "      <td>\\r\\nAnimation, Short, Adventure</td>\n",
       "      <td>9.0</td>\n",
       "      <td>\\r\\nAdd a Plot\\r\\n</td>\n",
       "      <td>\\r\\n    Directors:\\r\\nRajiv Chilaka, \\r\\nKrish...</td>\n",
       "      <td>6</td>\n",
       "      <td>NaN</td>\n",
       "      <td>NaN</td>\n",
       "    </tr>\n",
       "    <tr>\n",
       "      <th>6837</th>\n",
       "      <td>Mighty Little Bheem</td>\n",
       "      <td>(2019– )</td>\n",
       "      <td>\\r\\nAnimation, Short, Adventure</td>\n",
       "      <td>NaN</td>\n",
       "      <td>\\r\\nAdd a Plot\\r\\n</td>\n",
       "      <td>\\r\\n    Directors:\\r\\nRajiv Chilaka, \\r\\nKrish...</td>\n",
       "      <td>NaN</td>\n",
       "      <td>NaN</td>\n",
       "      <td>NaN</td>\n",
       "    </tr>\n",
       "    <tr>\n",
       "      <th>6838</th>\n",
       "      <td>Mighty Little Bheem</td>\n",
       "      <td>(2019– )</td>\n",
       "      <td>\\r\\nAnimation, Short, Adventure</td>\n",
       "      <td>NaN</td>\n",
       "      <td>\\r\\nAdd a Plot\\r\\n</td>\n",
       "      <td>\\r\\n    Directors:\\r\\nRajiv Chilaka, \\r\\nKrish...</td>\n",
       "      <td>NaN</td>\n",
       "      <td>NaN</td>\n",
       "      <td>NaN</td>\n",
       "    </tr>\n",
       "    <tr>\n",
       "      <th>...</th>\n",
       "      <td>...</td>\n",
       "      <td>...</td>\n",
       "      <td>...</td>\n",
       "      <td>...</td>\n",
       "      <td>...</td>\n",
       "      <td>...</td>\n",
       "      <td>...</td>\n",
       "      <td>...</td>\n",
       "      <td>...</td>\n",
       "    </tr>\n",
       "    <tr>\n",
       "      <th>9989</th>\n",
       "      <td>1899</td>\n",
       "      <td>(2022– )</td>\n",
       "      <td>\\r\\nDrama, History, Horror</td>\n",
       "      <td>NaN</td>\n",
       "      <td>\\r\\nAdd a Plot\\r\\n</td>\n",
       "      <td>\\r\\n    Director:\\r\\nBaran bo Odar\\r\\n</td>\n",
       "      <td>NaN</td>\n",
       "      <td>NaN</td>\n",
       "      <td>NaN</td>\n",
       "    </tr>\n",
       "    <tr>\n",
       "      <th>9990</th>\n",
       "      <td>1899</td>\n",
       "      <td>(2022– )</td>\n",
       "      <td>\\r\\nDrama, History, Horror</td>\n",
       "      <td>NaN</td>\n",
       "      <td>\\r\\nAdd a Plot\\r\\n</td>\n",
       "      <td>\\r\\n    Director:\\r\\nBaran bo Odar\\r\\n</td>\n",
       "      <td>NaN</td>\n",
       "      <td>NaN</td>\n",
       "      <td>NaN</td>\n",
       "    </tr>\n",
       "    <tr>\n",
       "      <th>9991</th>\n",
       "      <td>1899</td>\n",
       "      <td>(2022– )</td>\n",
       "      <td>\\r\\nDrama, History, Horror</td>\n",
       "      <td>NaN</td>\n",
       "      <td>\\r\\nAdd a Plot\\r\\n</td>\n",
       "      <td>\\r\\n    Director:\\r\\nBaran bo Odar\\r\\n</td>\n",
       "      <td>NaN</td>\n",
       "      <td>NaN</td>\n",
       "      <td>NaN</td>\n",
       "    </tr>\n",
       "    <tr>\n",
       "      <th>9992</th>\n",
       "      <td>1899</td>\n",
       "      <td>(2022– )</td>\n",
       "      <td>\\r\\nDrama, History, Horror</td>\n",
       "      <td>NaN</td>\n",
       "      <td>\\r\\nAdd a Plot\\r\\n</td>\n",
       "      <td>\\r\\n    Director:\\r\\nBaran bo Odar\\r\\n</td>\n",
       "      <td>NaN</td>\n",
       "      <td>NaN</td>\n",
       "      <td>NaN</td>\n",
       "    </tr>\n",
       "    <tr>\n",
       "      <th>9994</th>\n",
       "      <td>The Imperfects</td>\n",
       "      <td>(2021– )</td>\n",
       "      <td>\\r\\nAdventure, Drama, Fantasy</td>\n",
       "      <td>NaN</td>\n",
       "      <td>\\r\\nAdd a Plot\\r\\n</td>\n",
       "      <td>\\r\\n            \\r\\n    Stars:\\r\\nMorgan Taylo...</td>\n",
       "      <td>NaN</td>\n",
       "      <td>NaN</td>\n",
       "      <td>NaN</td>\n",
       "    </tr>\n",
       "  </tbody>\n",
       "</table>\n",
       "<p>431 rows × 9 columns</p>\n",
       "</div>"
      ],
      "text/plain": [
       "                    MOVIES      YEAR  \\\n",
       "6833   Mighty Little Bheem  (2019– )   \n",
       "6835   Mighty Little Bheem  (2019– )   \n",
       "6836   Mighty Little Bheem  (2019– )   \n",
       "6837   Mighty Little Bheem  (2019– )   \n",
       "6838   Mighty Little Bheem  (2019– )   \n",
       "...                    ...       ...   \n",
       "9989                  1899  (2022– )   \n",
       "9990                  1899  (2022– )   \n",
       "9991                  1899  (2022– )   \n",
       "9992                  1899  (2022– )   \n",
       "9994        The Imperfects  (2021– )   \n",
       "\n",
       "                                            GENRE  RATING            ONE-LINE  \\\n",
       "6833  \\r\\nAnimation, Short, Adventure                 NaN  \\r\\nAdd a Plot\\r\\n   \n",
       "6835  \\r\\nAnimation, Short, Adventure                 9.0  \\r\\nAdd a Plot\\r\\n   \n",
       "6836  \\r\\nAnimation, Short, Adventure                 9.0  \\r\\nAdd a Plot\\r\\n   \n",
       "6837  \\r\\nAnimation, Short, Adventure                 NaN  \\r\\nAdd a Plot\\r\\n   \n",
       "6838  \\r\\nAnimation, Short, Adventure                 NaN  \\r\\nAdd a Plot\\r\\n   \n",
       "...                                           ...     ...                 ...   \n",
       "9989       \\r\\nDrama, History, Horror                 NaN  \\r\\nAdd a Plot\\r\\n   \n",
       "9990       \\r\\nDrama, History, Horror                 NaN  \\r\\nAdd a Plot\\r\\n   \n",
       "9991       \\r\\nDrama, History, Horror                 NaN  \\r\\nAdd a Plot\\r\\n   \n",
       "9992       \\r\\nDrama, History, Horror                 NaN  \\r\\nAdd a Plot\\r\\n   \n",
       "9994    \\r\\nAdventure, Drama, Fantasy                 NaN  \\r\\nAdd a Plot\\r\\n   \n",
       "\n",
       "                                                  STARS VOTES  RunTime Gross  \n",
       "6833  \\r\\n    Directors:\\r\\nRajiv Chilaka, \\r\\nKrish...   NaN      NaN   NaN  \n",
       "6835  \\r\\n    Directors:\\r\\nRajiv Chilaka, \\r\\nKrish...     6      NaN   NaN  \n",
       "6836  \\r\\n    Directors:\\r\\nRajiv Chilaka, \\r\\nKrish...     6      NaN   NaN  \n",
       "6837  \\r\\n    Directors:\\r\\nRajiv Chilaka, \\r\\nKrish...   NaN      NaN   NaN  \n",
       "6838  \\r\\n    Directors:\\r\\nRajiv Chilaka, \\r\\nKrish...   NaN      NaN   NaN  \n",
       "...                                                 ...   ...      ...   ...  \n",
       "9989             \\r\\n    Director:\\r\\nBaran bo Odar\\r\\n   NaN      NaN   NaN  \n",
       "9990             \\r\\n    Director:\\r\\nBaran bo Odar\\r\\n   NaN      NaN   NaN  \n",
       "9991             \\r\\n    Director:\\r\\nBaran bo Odar\\r\\n   NaN      NaN   NaN  \n",
       "9992             \\r\\n    Director:\\r\\nBaran bo Odar\\r\\n   NaN      NaN   NaN  \n",
       "9994  \\r\\n            \\r\\n    Stars:\\r\\nMorgan Taylo...   NaN      NaN   NaN  \n",
       "\n",
       "[431 rows x 9 columns]"
      ]
     },
     "execution_count": 16,
     "metadata": {},
     "output_type": "execute_result"
    }
   ],
   "source": [
    "#casting the duplicate function inside the df to reveal only duplicated rows\n",
    "df[df.duplicated()]"
   ]
  },
  {
   "cell_type": "code",
   "execution_count": 17,
   "id": "524649de-62d4-435e-a7c9-322196cc0239",
   "metadata": {},
   "outputs": [],
   "source": [
    "#to remove the duplicated rows permanently\n",
    "df.drop_duplicates(inplace=True)"
   ]
  },
  {
   "cell_type": "code",
   "execution_count": 18,
   "id": "abffac6d-42ca-4261-ae01-a91a16ccb8fb",
   "metadata": {},
   "outputs": [
    {
     "name": "stdout",
     "output_type": "stream",
     "text": [
      "<class 'pandas.core.frame.DataFrame'>\n",
      "Index: 9568 entries, 0 to 9998\n",
      "Data columns (total 9 columns):\n",
      " #   Column    Non-Null Count  Dtype  \n",
      "---  ------    --------------  -----  \n",
      " 0   MOVIES    9568 non-null   object \n",
      " 1   YEAR      9026 non-null   object \n",
      " 2   GENRE     9490 non-null   object \n",
      " 3   RATING    8168 non-null   float64\n",
      " 4   ONE-LINE  9568 non-null   object \n",
      " 5   STARS     9568 non-null   object \n",
      " 6   VOTES     8168 non-null   object \n",
      " 7   RunTime   7008 non-null   float64\n",
      " 8   Gross     460 non-null    object \n",
      "dtypes: float64(2), object(7)\n",
      "memory usage: 747.5+ KB\n"
     ]
    }
   ],
   "source": [
    "#verifying that the duplicate rows have been removed\n",
    "df.info()"
   ]
  },
  {
   "cell_type": "code",
   "execution_count": 19,
   "id": "fd14a114-0196-4fa8-ab45-cfae4045ed2d",
   "metadata": {},
   "outputs": [
    {
     "data": {
      "text/plain": [
       "(9568, 9)"
      ]
     },
     "execution_count": 19,
     "metadata": {},
     "output_type": "execute_result"
    }
   ],
   "source": [
    "df.shape"
   ]
  },
  {
   "cell_type": "code",
   "execution_count": 20,
   "id": "96dc99cf-ae90-4750-81e7-6c9c7c4c424f",
   "metadata": {},
   "outputs": [
    {
     "data": {
      "text/html": [
       "<div>\n",
       "<style scoped>\n",
       "    .dataframe tbody tr th:only-of-type {\n",
       "        vertical-align: middle;\n",
       "    }\n",
       "\n",
       "    .dataframe tbody tr th {\n",
       "        vertical-align: top;\n",
       "    }\n",
       "\n",
       "    .dataframe thead th {\n",
       "        text-align: right;\n",
       "    }\n",
       "</style>\n",
       "<table border=\"1\" class=\"dataframe\">\n",
       "  <thead>\n",
       "    <tr style=\"text-align: right;\">\n",
       "      <th></th>\n",
       "      <th>MOVIES</th>\n",
       "      <th>YEAR</th>\n",
       "      <th>GENRE</th>\n",
       "      <th>RATING</th>\n",
       "      <th>ONE-LINE</th>\n",
       "      <th>STARS</th>\n",
       "      <th>VOTES</th>\n",
       "      <th>RunTime</th>\n",
       "      <th>Gross</th>\n",
       "    </tr>\n",
       "  </thead>\n",
       "  <tbody>\n",
       "    <tr>\n",
       "      <th>0</th>\n",
       "      <td>Blood Red Sky</td>\n",
       "      <td>(2021)</td>\n",
       "      <td>\\r\\nAction, Horror, Thriller</td>\n",
       "      <td>6.1</td>\n",
       "      <td>\\r\\nA woman with a mysterious illness is force...</td>\n",
       "      <td>\\r\\n    Director:\\r\\nPeter Thorwarth\\r\\n| \\r\\n...</td>\n",
       "      <td>21,062</td>\n",
       "      <td>121.0</td>\n",
       "      <td>NaN</td>\n",
       "    </tr>\n",
       "    <tr>\n",
       "      <th>1</th>\n",
       "      <td>Masters of the Universe: Revelation</td>\n",
       "      <td>(2021– )</td>\n",
       "      <td>\\r\\nAnimation, Action, Adventure</td>\n",
       "      <td>5.0</td>\n",
       "      <td>\\r\\nThe war for Eternia begins again in what m...</td>\n",
       "      <td>\\r\\n            \\r\\n    Stars:\\r\\nChris Wood, ...</td>\n",
       "      <td>17,870</td>\n",
       "      <td>25.0</td>\n",
       "      <td>NaN</td>\n",
       "    </tr>\n",
       "    <tr>\n",
       "      <th>2</th>\n",
       "      <td>The Walking Dead</td>\n",
       "      <td>(2010–2022)</td>\n",
       "      <td>\\r\\nDrama, Horror, Thriller</td>\n",
       "      <td>8.2</td>\n",
       "      <td>\\r\\nSheriff Deputy Rick Grimes wakes up from a...</td>\n",
       "      <td>\\r\\n            \\r\\n    Stars:\\r\\nAndrew Linco...</td>\n",
       "      <td>885,805</td>\n",
       "      <td>44.0</td>\n",
       "      <td>NaN</td>\n",
       "    </tr>\n",
       "    <tr>\n",
       "      <th>3</th>\n",
       "      <td>Rick and Morty</td>\n",
       "      <td>(2013– )</td>\n",
       "      <td>\\r\\nAnimation, Adventure, Comedy</td>\n",
       "      <td>9.2</td>\n",
       "      <td>\\r\\nAn animated series that follows the exploi...</td>\n",
       "      <td>\\r\\n            \\r\\n    Stars:\\r\\nJustin Roila...</td>\n",
       "      <td>414,849</td>\n",
       "      <td>23.0</td>\n",
       "      <td>NaN</td>\n",
       "    </tr>\n",
       "    <tr>\n",
       "      <th>4</th>\n",
       "      <td>Army of Thieves</td>\n",
       "      <td>(2021)</td>\n",
       "      <td>\\r\\nAction, Crime, Horror</td>\n",
       "      <td>NaN</td>\n",
       "      <td>\\r\\nA prequel, set before the events of Army o...</td>\n",
       "      <td>\\r\\n    Director:\\r\\nMatthias Schweighöfer\\r\\n...</td>\n",
       "      <td>NaN</td>\n",
       "      <td>NaN</td>\n",
       "      <td>NaN</td>\n",
       "    </tr>\n",
       "  </tbody>\n",
       "</table>\n",
       "</div>"
      ],
      "text/plain": [
       "                                MOVIES         YEAR  \\\n",
       "0                        Blood Red Sky       (2021)   \n",
       "1  Masters of the Universe: Revelation     (2021– )   \n",
       "2                     The Walking Dead  (2010–2022)   \n",
       "3                       Rick and Morty     (2013– )   \n",
       "4                      Army of Thieves       (2021)   \n",
       "\n",
       "                                          GENRE  RATING  \\\n",
       "0      \\r\\nAction, Horror, Thriller                 6.1   \n",
       "1  \\r\\nAnimation, Action, Adventure                 5.0   \n",
       "2       \\r\\nDrama, Horror, Thriller                 8.2   \n",
       "3  \\r\\nAnimation, Adventure, Comedy                 9.2   \n",
       "4         \\r\\nAction, Crime, Horror                 NaN   \n",
       "\n",
       "                                            ONE-LINE  \\\n",
       "0  \\r\\nA woman with a mysterious illness is force...   \n",
       "1  \\r\\nThe war for Eternia begins again in what m...   \n",
       "2  \\r\\nSheriff Deputy Rick Grimes wakes up from a...   \n",
       "3  \\r\\nAn animated series that follows the exploi...   \n",
       "4  \\r\\nA prequel, set before the events of Army o...   \n",
       "\n",
       "                                               STARS    VOTES  RunTime Gross  \n",
       "0  \\r\\n    Director:\\r\\nPeter Thorwarth\\r\\n| \\r\\n...   21,062    121.0   NaN  \n",
       "1  \\r\\n            \\r\\n    Stars:\\r\\nChris Wood, ...   17,870     25.0   NaN  \n",
       "2  \\r\\n            \\r\\n    Stars:\\r\\nAndrew Linco...  885,805     44.0   NaN  \n",
       "3  \\r\\n            \\r\\n    Stars:\\r\\nJustin Roila...  414,849     23.0   NaN  \n",
       "4  \\r\\n    Director:\\r\\nMatthias Schweighöfer\\r\\n...      NaN      NaN   NaN  "
      ]
     },
     "execution_count": 20,
     "metadata": {},
     "output_type": "execute_result"
    }
   ],
   "source": [
    "#resetting the index\n",
    "df.reset_index(drop=True, inplace=True)\n",
    "df.head()"
   ]
  },
  {
   "cell_type": "code",
   "execution_count": 21,
   "id": "f32097b0-eb90-4127-93aa-8db6f639c6c5",
   "metadata": {},
   "outputs": [
    {
     "data": {
      "text/html": [
       "<div>\n",
       "<style scoped>\n",
       "    .dataframe tbody tr th:only-of-type {\n",
       "        vertical-align: middle;\n",
       "    }\n",
       "\n",
       "    .dataframe tbody tr th {\n",
       "        vertical-align: top;\n",
       "    }\n",
       "\n",
       "    .dataframe thead th {\n",
       "        text-align: right;\n",
       "    }\n",
       "</style>\n",
       "<table border=\"1\" class=\"dataframe\">\n",
       "  <thead>\n",
       "    <tr style=\"text-align: right;\">\n",
       "      <th></th>\n",
       "      <th>MOVIES</th>\n",
       "      <th>YEAR</th>\n",
       "      <th>GENRE</th>\n",
       "      <th>RATING</th>\n",
       "      <th>ONE-LINE</th>\n",
       "      <th>STARS</th>\n",
       "      <th>VOTES</th>\n",
       "      <th>RunTime</th>\n",
       "      <th>Gross</th>\n",
       "    </tr>\n",
       "  </thead>\n",
       "  <tbody>\n",
       "  </tbody>\n",
       "</table>\n",
       "</div>"
      ],
      "text/plain": [
       "Empty DataFrame\n",
       "Columns: [MOVIES, YEAR, GENRE, RATING, ONE-LINE, STARS, VOTES, RunTime, Gross]\n",
       "Index: []"
      ]
     },
     "execution_count": 21,
     "metadata": {},
     "output_type": "execute_result"
    }
   ],
   "source": [
    "#verifying that the duplicate rows have been removed\n",
    "df[df.duplicated()]"
   ]
  },
  {
   "cell_type": "code",
   "execution_count": 22,
   "id": "ec4fd40c-e141-409d-a590-04f6e53eee96",
   "metadata": {},
   "outputs": [
    {
     "data": {
      "text/plain": [
       "(9568, 9)"
      ]
     },
     "execution_count": 22,
     "metadata": {},
     "output_type": "execute_result"
    }
   ],
   "source": [
    "#verifying that the duplicate rows have been removed\n",
    "df.shape"
   ]
  },
  {
   "cell_type": "code",
   "execution_count": null,
   "id": "3d83a7af-aed8-42aa-b23b-2d181434da3a",
   "metadata": {},
   "outputs": [],
   "source": []
  },
  {
   "cell_type": "markdown",
   "id": "4ccea659-b17f-40c9-bfed-45e92af8abbd",
   "metadata": {},
   "source": [
    "### Checking for columns with Null values and counting them\n",
    "- check is done using .isnull() fxn\n",
    "- count is done using .isnull().sum()"
   ]
  },
  {
   "cell_type": "code",
   "execution_count": 24,
   "id": "7df31fc3-569c-4136-8c01-0cff492d0380",
   "metadata": {},
   "outputs": [
    {
     "data": {
      "text/html": [
       "<div>\n",
       "<style scoped>\n",
       "    .dataframe tbody tr th:only-of-type {\n",
       "        vertical-align: middle;\n",
       "    }\n",
       "\n",
       "    .dataframe tbody tr th {\n",
       "        vertical-align: top;\n",
       "    }\n",
       "\n",
       "    .dataframe thead th {\n",
       "        text-align: right;\n",
       "    }\n",
       "</style>\n",
       "<table border=\"1\" class=\"dataframe\">\n",
       "  <thead>\n",
       "    <tr style=\"text-align: right;\">\n",
       "      <th></th>\n",
       "      <th>MOVIES</th>\n",
       "      <th>YEAR</th>\n",
       "      <th>GENRE</th>\n",
       "      <th>RATING</th>\n",
       "      <th>ONE-LINE</th>\n",
       "      <th>STARS</th>\n",
       "      <th>VOTES</th>\n",
       "      <th>RunTime</th>\n",
       "      <th>Gross</th>\n",
       "    </tr>\n",
       "  </thead>\n",
       "  <tbody>\n",
       "    <tr>\n",
       "      <th>0</th>\n",
       "      <td>Blood Red Sky</td>\n",
       "      <td>(2021)</td>\n",
       "      <td>\\r\\nAction, Horror, Thriller</td>\n",
       "      <td>6.1</td>\n",
       "      <td>\\r\\nA woman with a mysterious illness is force...</td>\n",
       "      <td>\\r\\n    Director:\\r\\nPeter Thorwarth\\r\\n| \\r\\n...</td>\n",
       "      <td>21,062</td>\n",
       "      <td>121.0</td>\n",
       "      <td>NaN</td>\n",
       "    </tr>\n",
       "  </tbody>\n",
       "</table>\n",
       "</div>"
      ],
      "text/plain": [
       "          MOVIES    YEAR                                     GENRE  RATING  \\\n",
       "0  Blood Red Sky  (2021)  \\r\\nAction, Horror, Thriller                 6.1   \n",
       "\n",
       "                                            ONE-LINE  \\\n",
       "0  \\r\\nA woman with a mysterious illness is force...   \n",
       "\n",
       "                                               STARS   VOTES  RunTime Gross  \n",
       "0  \\r\\n    Director:\\r\\nPeter Thorwarth\\r\\n| \\r\\n...  21,062    121.0   NaN  "
      ]
     },
     "execution_count": 24,
     "metadata": {},
     "output_type": "execute_result"
    }
   ],
   "source": [
    "#checking first 5 again\n",
    "df.head(1)"
   ]
  },
  {
   "cell_type": "code",
   "execution_count": 25,
   "id": "024b2ba5-ddca-4d09-94bd-25901ddbe5cf",
   "metadata": {},
   "outputs": [],
   "source": [
    "#to check if there are null values\n",
    "#will return results in boolean\n",
    "# df.isnull()"
   ]
  },
  {
   "cell_type": "code",
   "execution_count": 26,
   "id": "e9bb671f-d11a-498a-98a2-91874d15c02d",
   "metadata": {},
   "outputs": [
    {
     "name": "stdout",
     "output_type": "stream",
     "text": [
      "Percentage of missing value per feature:\n",
      "MOVIES column has 0 missing values with a percentage of 0.0%\n",
      "YEAR column has 542 missing values with a percentage of 5.664715719063545%\n",
      "GENRE column has 78 missing values with a percentage of 0.8152173913043478%\n",
      "RATING column has 1400 missing values with a percentage of 14.632107023411372%\n",
      "ONE-LINE column has 0 missing values with a percentage of 0.0%\n",
      "STARS column has 0 missing values with a percentage of 0.0%\n",
      "VOTES column has 1400 missing values with a percentage of 14.632107023411372%\n",
      "RunTime column has 2560 missing values with a percentage of 26.755852842809364%\n",
      "Gross column has 9108 missing values with a percentage of 95.1923076923077%\n",
      "\n",
      "\n",
      "Total Number of missing values is 15088\n"
     ]
    }
   ],
   "source": [
    "#to count how many null values are present in each colums\n",
    "# print(df.isnull().sum())\n",
    "\n",
    "#to calculate the percentage of missing values\n",
    "print('Percentage of missing value per feature:')\n",
    "percent = (df.isnull().sum() / len(df)) * 100\n",
    "\n",
    "for col,null,percent in zip(df.columns, df.isnull().sum(), percent):\n",
    "    print(f'{col} column has {null} missing values with a percentage of {percent}%')\n",
    "print('\\n')\n",
    "\n",
    "#to get total number of missing values\n",
    "print('Total Number of missing values is', df.isnull().values.sum())"
   ]
  },
  {
   "cell_type": "markdown",
   "id": "9478435e-8b7e-4036-88cf-2323ca9b8508",
   "metadata": {},
   "source": [
    "##### Checking for Null values using seaborn heatmap"
   ]
  },
  {
   "cell_type": "code",
   "execution_count": 28,
   "id": "c2caed9b-196d-4e69-a06e-76ba57d747be",
   "metadata": {},
   "outputs": [
    {
     "data": {
      "text/plain": [
       "<Axes: >"
      ]
     },
     "execution_count": 28,
     "metadata": {},
     "output_type": "execute_result"
    },
    {
     "data": {
      "image/png": "[encoded data removed]",
      "text/plain": [
       "<Figure size 640x480 with 2 Axes>"
      ]
     },
     "metadata": {},
     "output_type": "display_data"
    }
   ],
   "source": [
    "#returns a heatmap showing the data entries against columns with missing values in white\n",
    "sb.heatmap(df.isnull())"
   ]
  },
  {
   "cell_type": "code",
   "execution_count": 29,
   "id": "fca1ac65-d549-417e-9e47-f71d42845e0a",
   "metadata": {},
   "outputs": [],
   "source": [
    "# #library is able to plot a heatmap for missing values to show correlations\n",
    "# import missingno as msno\n",
    "# msno.heatmap(df)"
   ]
  },
  {
   "cell_type": "code",
   "execution_count": 30,
   "id": "75cead23-7aa7-444e-bc9b-afd9a3fbe592",
   "metadata": {},
   "outputs": [],
   "source": [
    "# #resetting the index\n",
    "# df.reset_index(drop=True, inplace=True)\n",
    "# df.head()"
   ]
  },
  {
   "cell_type": "markdown",
   "id": "be8ed4be-98a9-453e-b06b-85e8b48bf976",
   "metadata": {},
   "source": [
    "## Data Cleaning by Columns"
   ]
  },
  {
   "cell_type": "markdown",
   "id": "83ae8b4e-648b-447f-afca-8c1417529190",
   "metadata": {},
   "source": [
    "#### Year\n",
    "- Before filling them, i'll remove special characters and extract the most important year (release year)"
   ]
  },
  {
   "cell_type": "code",
   "execution_count": 33,
   "id": "d602d8de-c427-4655-86bc-fb2fb52ca936",
   "metadata": {},
   "outputs": [
    {
     "data": {
      "text/plain": [
       "count         9026\n",
       "unique         438\n",
       "top       (2020– )\n",
       "freq           876\n",
       "Name: YEAR, dtype: object"
      ]
     },
     "execution_count": 33,
     "metadata": {},
     "output_type": "execute_result"
    }
   ],
   "source": [
    "df.YEAR.describe()"
   ]
  },
  {
   "cell_type": "code",
   "execution_count": 34,
   "id": "5c9770e6-3e6b-455b-b551-3ec12725b0a1",
   "metadata": {},
   "outputs": [],
   "source": [
    "# Function to extract the first year from a string in the YEAR column using regex\n",
    "import re\n",
    "\n",
    "#function\n",
    "def extract_first_year(row):\n",
    "    #searching for the first 4 years in the column\n",
    "    #\\b(\\d{4})\\b - 4 digits bounded by whitespace and special characters \n",
    "    #() \n",
    "    #group(0): This returns the entire substring that matched the regular expression.\n",
    "    #group(1): This returns the part of the string that matched the first capturing group, which is defined by the parentheses () in the regular expression.\n",
    "    match = re.search(r'\\b(\\d{4})\\b', str(row))\n",
    "    return match.group(1) if match else np.nan\n",
    "\n",
    "# Apply the function to the column\n",
    "df['YEAR'] = df['YEAR'].apply(extract_first_year)\n"
   ]
  },
  {
   "cell_type": "code",
   "execution_count": 35,
   "id": "2b3e8b5b-019e-4465-8d37-ffa916d117b5",
   "metadata": {},
   "outputs": [],
   "source": [
    "#filling not available value with '0000' - year format\n",
    "df['YEAR'] = df.YEAR.fillna(0000)"
   ]
  },
  {
   "cell_type": "code",
   "execution_count": 36,
   "id": "cc49f08b-d4d1-43a0-b4e6-3c76b58bfe88",
   "metadata": {},
   "outputs": [
    {
     "name": "stdout",
     "output_type": "stream",
     "text": [
      "<class 'pandas.core.series.Series'>\n",
      "RangeIndex: 9568 entries, 0 to 9567\n",
      "Series name: YEAR\n",
      "Non-Null Count  Dtype \n",
      "--------------  ----- \n",
      "9568 non-null   object\n",
      "dtypes: object(1)\n",
      "memory usage: 74.9+ KB\n"
     ]
    }
   ],
   "source": [
    "df.YEAR.info()"
   ]
  },
  {
   "cell_type": "code",
   "execution_count": 37,
   "id": "fdadec0b-cd70-4707-86c1-d715c13877e3",
   "metadata": {},
   "outputs": [],
   "source": [
    "#to change data type of YEAR\n",
    "df['YEAR'] = df.YEAR.astype(int)"
   ]
  },
  {
   "cell_type": "code",
   "execution_count": 38,
   "id": "cf2da850-7b2e-40d8-8585-cd65e3959773",
   "metadata": {},
   "outputs": [
    {
     "data": {
      "text/plain": [
       "0    2021\n",
       "1    2021\n",
       "Name: YEAR, dtype: int32"
      ]
     },
     "execution_count": 38,
     "metadata": {},
     "output_type": "execute_result"
    }
   ],
   "source": [
    "df.YEAR.head(2)"
   ]
  },
  {
   "cell_type": "code",
   "execution_count": 39,
   "id": "9a64b95d-92d9-4531-8200-fa506c00784a",
   "metadata": {},
   "outputs": [],
   "source": [
    "# #to split the YEAR_ column into 2 columns (start and end)\n",
    "# #i'll use the str.split() fxn\n",
    "# df[['START_YEAR','END_YEAR']] = df.YEAR_.str.split('-',expand=True)"
   ]
  },
  {
   "cell_type": "code",
   "execution_count": 40,
   "id": "7b5fdde3-2366-46fc-ac97-69cf1ad9566f",
   "metadata": {},
   "outputs": [],
   "source": [
    "# #Adding a hyphen to unhyphenated dates\n",
    "# df['YEAR_'] = df['YEAR'].str.replace(r'^(\\\\d{4})$', r'^(\\\\d{4})$\\\\1-', regex=True)\n",
    "\n",
    "# df.head()"
   ]
  },
  {
   "cell_type": "code",
   "execution_count": null,
   "id": "06f80344-c141-457e-b6ab-aed66777ffd0",
   "metadata": {},
   "outputs": [],
   "source": []
  },
  {
   "cell_type": "markdown",
   "id": "f787dbed-10e2-4bbe-8b7b-b7bb453c6541",
   "metadata": {},
   "source": [
    "#### Genre column"
   ]
  },
  {
   "cell_type": "code",
   "execution_count": 42,
   "id": "6a0726d1-8353-47e6-b29d-e2b075c70a3b",
   "metadata": {},
   "outputs": [
    {
     "data": {
      "text/html": [
       "<div>\n",
       "<style scoped>\n",
       "    .dataframe tbody tr th:only-of-type {\n",
       "        vertical-align: middle;\n",
       "    }\n",
       "\n",
       "    .dataframe tbody tr th {\n",
       "        vertical-align: top;\n",
       "    }\n",
       "\n",
       "    .dataframe thead th {\n",
       "        text-align: right;\n",
       "    }\n",
       "</style>\n",
       "<table border=\"1\" class=\"dataframe\">\n",
       "  <thead>\n",
       "    <tr style=\"text-align: right;\">\n",
       "      <th></th>\n",
       "      <th>MOVIES</th>\n",
       "      <th>YEAR</th>\n",
       "      <th>GENRE</th>\n",
       "      <th>RATING</th>\n",
       "      <th>ONE-LINE</th>\n",
       "      <th>STARS</th>\n",
       "      <th>VOTES</th>\n",
       "      <th>RunTime</th>\n",
       "      <th>Gross</th>\n",
       "    </tr>\n",
       "  </thead>\n",
       "  <tbody>\n",
       "    <tr>\n",
       "      <th>0</th>\n",
       "      <td>Blood Red Sky</td>\n",
       "      <td>2021</td>\n",
       "      <td>Action, Horror, Thriller</td>\n",
       "      <td>6.1</td>\n",
       "      <td>\\r\\nA woman with a mysterious illness is force...</td>\n",
       "      <td>\\r\\n    Director:\\r\\nPeter Thorwarth\\r\\n| \\r\\n...</td>\n",
       "      <td>21,062</td>\n",
       "      <td>121.0</td>\n",
       "      <td>NaN</td>\n",
       "    </tr>\n",
       "    <tr>\n",
       "      <th>1</th>\n",
       "      <td>Masters of the Universe: Revelation</td>\n",
       "      <td>2021</td>\n",
       "      <td>Animation, Action, Adventure</td>\n",
       "      <td>5.0</td>\n",
       "      <td>\\r\\nThe war for Eternia begins again in what m...</td>\n",
       "      <td>\\r\\n            \\r\\n    Stars:\\r\\nChris Wood, ...</td>\n",
       "      <td>17,870</td>\n",
       "      <td>25.0</td>\n",
       "      <td>NaN</td>\n",
       "    </tr>\n",
       "  </tbody>\n",
       "</table>\n",
       "</div>"
      ],
      "text/plain": [
       "                                MOVIES  YEAR                         GENRE  \\\n",
       "0                        Blood Red Sky  2021      Action, Horror, Thriller   \n",
       "1  Masters of the Universe: Revelation  2021  Animation, Action, Adventure   \n",
       "\n",
       "   RATING                                           ONE-LINE  \\\n",
       "0     6.1  \\r\\nA woman with a mysterious illness is force...   \n",
       "1     5.0  \\r\\nThe war for Eternia begins again in what m...   \n",
       "\n",
       "                                               STARS   VOTES  RunTime Gross  \n",
       "0  \\r\\n    Director:\\r\\nPeter Thorwarth\\r\\n| \\r\\n...  21,062    121.0   NaN  \n",
       "1  \\r\\n            \\r\\n    Stars:\\r\\nChris Wood, ...  17,870     25.0   NaN  "
      ]
     },
     "execution_count": 42,
     "metadata": {},
     "output_type": "execute_result"
    }
   ],
   "source": [
    "#to strip special characters from the 'GENRE' column, i'll be using the str.strip() fxn\n",
    "#to remove the characters from both sides\n",
    "df['GENRE'] = df.GENRE.str.strip()\n",
    "df.head(2)"
   ]
  },
  {
   "cell_type": "code",
   "execution_count": 43,
   "id": "e0fa5ceb-da58-42de-ac13-c32e36a02ca4",
   "metadata": {},
   "outputs": [
    {
     "name": "stdout",
     "output_type": "stream",
     "text": [
      "There is 0 missing values in GENRE\n"
     ]
    }
   ],
   "source": [
    "#filling missing values with 'None'\n",
    "df.GENRE = df.GENRE.fillna('None')\n",
    "print(f'There is {df.GENRE.isnull().sum()} missing values in GENRE')"
   ]
  },
  {
   "cell_type": "code",
   "execution_count": null,
   "id": "517477ba-a299-4726-a674-a049f7c109bc",
   "metadata": {},
   "outputs": [],
   "source": []
  },
  {
   "cell_type": "markdown",
   "id": "4a463f76-6cd0-41ea-8882-de883cbe392e",
   "metadata": {},
   "source": [
    "#### One-Line column"
   ]
  },
  {
   "cell_type": "code",
   "execution_count": 45,
   "id": "20c9adc0-8b25-45dd-844e-5ebf5c52ee0a",
   "metadata": {},
   "outputs": [
    {
     "data": {
      "text/html": [
       "<div>\n",
       "<style scoped>\n",
       "    .dataframe tbody tr th:only-of-type {\n",
       "        vertical-align: middle;\n",
       "    }\n",
       "\n",
       "    .dataframe tbody tr th {\n",
       "        vertical-align: top;\n",
       "    }\n",
       "\n",
       "    .dataframe thead th {\n",
       "        text-align: right;\n",
       "    }\n",
       "</style>\n",
       "<table border=\"1\" class=\"dataframe\">\n",
       "  <thead>\n",
       "    <tr style=\"text-align: right;\">\n",
       "      <th></th>\n",
       "      <th>MOVIES</th>\n",
       "      <th>YEAR</th>\n",
       "      <th>GENRE</th>\n",
       "      <th>RATING</th>\n",
       "      <th>ONE-LINE</th>\n",
       "      <th>STARS</th>\n",
       "      <th>VOTES</th>\n",
       "      <th>RunTime</th>\n",
       "      <th>Gross</th>\n",
       "    </tr>\n",
       "  </thead>\n",
       "  <tbody>\n",
       "    <tr>\n",
       "      <th>0</th>\n",
       "      <td>Blood Red Sky</td>\n",
       "      <td>2021</td>\n",
       "      <td>Action, Horror, Thriller</td>\n",
       "      <td>6.1</td>\n",
       "      <td>A woman with a mysterious illness is forced in...</td>\n",
       "      <td>\\r\\n    Director:\\r\\nPeter Thorwarth\\r\\n| \\r\\n...</td>\n",
       "      <td>21,062</td>\n",
       "      <td>121.0</td>\n",
       "      <td>NaN</td>\n",
       "    </tr>\n",
       "    <tr>\n",
       "      <th>1</th>\n",
       "      <td>Masters of the Universe: Revelation</td>\n",
       "      <td>2021</td>\n",
       "      <td>Animation, Action, Adventure</td>\n",
       "      <td>5.0</td>\n",
       "      <td>The war for Eternia begins again in what may b...</td>\n",
       "      <td>\\r\\n            \\r\\n    Stars:\\r\\nChris Wood, ...</td>\n",
       "      <td>17,870</td>\n",
       "      <td>25.0</td>\n",
       "      <td>NaN</td>\n",
       "    </tr>\n",
       "  </tbody>\n",
       "</table>\n",
       "</div>"
      ],
      "text/plain": [
       "                                MOVIES  YEAR                         GENRE  \\\n",
       "0                        Blood Red Sky  2021      Action, Horror, Thriller   \n",
       "1  Masters of the Universe: Revelation  2021  Animation, Action, Adventure   \n",
       "\n",
       "   RATING                                           ONE-LINE  \\\n",
       "0     6.1  A woman with a mysterious illness is forced in...   \n",
       "1     5.0  The war for Eternia begins again in what may b...   \n",
       "\n",
       "                                               STARS   VOTES  RunTime Gross  \n",
       "0  \\r\\n    Director:\\r\\nPeter Thorwarth\\r\\n| \\r\\n...  21,062    121.0   NaN  \n",
       "1  \\r\\n            \\r\\n    Stars:\\r\\nChris Wood, ...  17,870     25.0   NaN  "
      ]
     },
     "execution_count": 45,
     "metadata": {},
     "output_type": "execute_result"
    }
   ],
   "source": [
    "#to strip special characters from the One-Line column, i'll be using the str.strip() fxn\n",
    "#to remove the characters from both sides\n",
    "df['ONE-LINE'] = df['ONE-LINE'].str.strip()\n",
    "df.head(2)"
   ]
  },
  {
   "cell_type": "markdown",
   "id": "d803f00e-caa1-4da6-9fcd-19e8d12647f0",
   "metadata": {},
   "source": [
    "#### Stars column"
   ]
  },
  {
   "cell_type": "code",
   "execution_count": 47,
   "id": "92037800-99bd-430d-b8cf-27fedcd88c0c",
   "metadata": {},
   "outputs": [
    {
     "data": {
      "text/html": [
       "<div>\n",
       "<style scoped>\n",
       "    .dataframe tbody tr th:only-of-type {\n",
       "        vertical-align: middle;\n",
       "    }\n",
       "\n",
       "    .dataframe tbody tr th {\n",
       "        vertical-align: top;\n",
       "    }\n",
       "\n",
       "    .dataframe thead th {\n",
       "        text-align: right;\n",
       "    }\n",
       "</style>\n",
       "<table border=\"1\" class=\"dataframe\">\n",
       "  <thead>\n",
       "    <tr style=\"text-align: right;\">\n",
       "      <th></th>\n",
       "      <th>MOVIES</th>\n",
       "      <th>YEAR</th>\n",
       "      <th>GENRE</th>\n",
       "      <th>RATING</th>\n",
       "      <th>ONE-LINE</th>\n",
       "      <th>STARS</th>\n",
       "      <th>VOTES</th>\n",
       "      <th>RunTime</th>\n",
       "      <th>Gross</th>\n",
       "    </tr>\n",
       "  </thead>\n",
       "  <tbody>\n",
       "    <tr>\n",
       "      <th>0</th>\n",
       "      <td>Blood Red Sky</td>\n",
       "      <td>2021</td>\n",
       "      <td>Action, Horror, Thriller</td>\n",
       "      <td>6.1</td>\n",
       "      <td>A woman with a mysterious illness is forced in...</td>\n",
       "      <td>Director: Peter Thorwarth |      Stars: Peri B...</td>\n",
       "      <td>21,062</td>\n",
       "      <td>121.0</td>\n",
       "      <td>NaN</td>\n",
       "    </tr>\n",
       "    <tr>\n",
       "      <th>1</th>\n",
       "      <td>Masters of the Universe: Revelation</td>\n",
       "      <td>2021</td>\n",
       "      <td>Animation, Action, Adventure</td>\n",
       "      <td>5.0</td>\n",
       "      <td>The war for Eternia begins again in what may b...</td>\n",
       "      <td>Stars: Chris Wood,  Sarah Michelle Gellar,  Le...</td>\n",
       "      <td>17,870</td>\n",
       "      <td>25.0</td>\n",
       "      <td>NaN</td>\n",
       "    </tr>\n",
       "  </tbody>\n",
       "</table>\n",
       "</div>"
      ],
      "text/plain": [
       "                                MOVIES  YEAR                         GENRE  \\\n",
       "0                        Blood Red Sky  2021      Action, Horror, Thriller   \n",
       "1  Masters of the Universe: Revelation  2021  Animation, Action, Adventure   \n",
       "\n",
       "   RATING                                           ONE-LINE  \\\n",
       "0     6.1  A woman with a mysterious illness is forced in...   \n",
       "1     5.0  The war for Eternia begins again in what may b...   \n",
       "\n",
       "                                               STARS   VOTES  RunTime Gross  \n",
       "0  Director: Peter Thorwarth |      Stars: Peri B...  21,062    121.0   NaN  \n",
       "1  Stars: Chris Wood,  Sarah Michelle Gellar,  Le...  17,870     25.0   NaN  "
      ]
     },
     "execution_count": 47,
     "metadata": {},
     "output_type": "execute_result"
    }
   ],
   "source": [
    "#to strip special characters from the Stars column, i'll be using the str.strip() fxn\n",
    "#to remove the whitespace characters from both sides\n",
    "df['STARS'] = df.STARS.str.strip()\n",
    "df['STARS'] = df.STARS.str.strip('>')\n",
    "#to replace whitespace in the middle with actual whitespace\n",
    "df['STARS'] = df.STARS.str.replace('\\r\\n', ' ')\n",
    "df.head(2)"
   ]
  },
  {
   "cell_type": "code",
   "execution_count": 48,
   "id": "342c11af-8b51-4c3c-b406-1101aca3c741",
   "metadata": {},
   "outputs": [],
   "source": [
    "# Split the observation in STARS (Directors and Stars) into two columns\n",
    "# df[['Director', 'Stars']] = df['STARS'].str.split('|', expand=True).apply(lambda x: x.str.strip())\n",
    "\n",
    "# Display the resulting DataFrame\n",
    "# print(df[['Director', 'Stars']])\n",
    "# df.head()\n",
    "\n",
    "# import re\n",
    "\n",
    "# # Function to extract director and stars\n",
    "# def extract_info(text):\n",
    "#     if pd.isna(text) or text.strip() == '':\n",
    "#         return pd.Series([pd.NA, pd.NA])\n",
    "#     # Extract director\n",
    "#     Director = re.search(r'Director:\\s*([^|]+)', text)\n",
    "#     Director = Director.group(1).strip() if Director else pd.NA\n",
    "#     # Extract stars\n",
    "#     Stars = re.search(r'Stars:\\s*(.*)', text)\n",
    "#     Stars = Stars.group(1).strip() if Stars else pd.NA\n",
    "#     return pd.Series([Director, Stars])\n",
    "\n",
    "# # Apply function to extract info\n",
    "# df[['Director', 'Stars']] = df['Stars'].apply(extract_info)"
   ]
  },
  {
   "cell_type": "code",
   "execution_count": null,
   "id": "cd50053f-d51e-4450-85b6-1a0bfb31a4c6",
   "metadata": {},
   "outputs": [],
   "source": []
  },
  {
   "cell_type": "markdown",
   "id": "52a3985a-6b87-466e-820d-53583f451e33",
   "metadata": {},
   "source": [
    "#### Votes and Ratings column"
   ]
  },
  {
   "cell_type": "code",
   "execution_count": 50,
   "id": "711c7047-90e9-47a9-9b4e-adf16457f369",
   "metadata": {},
   "outputs": [],
   "source": [
    "#removing the special character so we can convert the datatype\n",
    "df['VOTES'] = df.VOTES.str.replace(',','')"
   ]
  },
  {
   "cell_type": "code",
   "execution_count": 51,
   "id": "cf8b48b1-bd55-46a8-acbc-fac6fc3f859a",
   "metadata": {},
   "outputs": [],
   "source": [
    "#filling votes with 0 because we can't assume votes\n",
    "df.VOTES = df.VOTES.fillna('0')"
   ]
  },
  {
   "cell_type": "code",
   "execution_count": 52,
   "id": "48b905e8-42e9-4921-b290-798feff70670",
   "metadata": {},
   "outputs": [],
   "source": [
    "#converting to int\n",
    "df['VOTES'] = df['VOTES'].astype(int)"
   ]
  },
  {
   "cell_type": "code",
   "execution_count": 53,
   "id": "c6c272cd-85cb-4a85-b074-8094f76fc093",
   "metadata": {},
   "outputs": [
    {
     "name": "stdout",
     "output_type": "stream",
     "text": [
      "<class 'pandas.core.series.Series'>\n",
      "RangeIndex: 9568 entries, 0 to 9567\n",
      "Series name: VOTES\n",
      "Non-Null Count  Dtype\n",
      "--------------  -----\n",
      "9568 non-null   int32\n",
      "dtypes: int32(1)\n",
      "memory usage: 37.5 KB\n"
     ]
    }
   ],
   "source": [
    "df.VOTES.info()"
   ]
  },
  {
   "cell_type": "code",
   "execution_count": 54,
   "id": "896ab8f0-1238-455f-b52d-0abf81ed7e8e",
   "metadata": {},
   "outputs": [
    {
     "name": "stdout",
     "output_type": "stream",
     "text": [
      "count    9.568000e+03\n",
      "mean     1.292847e+04\n",
      "std      6.498853e+04\n",
      "min      0.000000e+00\n",
      "25%      6.400000e+01\n",
      "50%      4.895000e+02\n",
      "75%      2.903000e+03\n",
      "max      1.713028e+06\n",
      "Name: VOTES, dtype: float64\n",
      "\n",
      "\n",
      "VOTES has 0 missing values!\n"
     ]
    }
   ],
   "source": [
    "#describing to check the statistical summary of data\n",
    "#the minimum value is okay because we cannot adjust the votes as there were no voters\n",
    "print(df.VOTES.describe())\n",
    "print('\\n')\n",
    "print(f'VOTES has {df.VOTES.isnull().sum()} missing values!')"
   ]
  },
  {
   "cell_type": "code",
   "execution_count": 55,
   "id": "c84c6fa4-1af6-487b-900c-294e4b5552d4",
   "metadata": {},
   "outputs": [
    {
     "data": {
      "text/html": [
       "<div>\n",
       "<style scoped>\n",
       "    .dataframe tbody tr th:only-of-type {\n",
       "        vertical-align: middle;\n",
       "    }\n",
       "\n",
       "    .dataframe tbody tr th {\n",
       "        vertical-align: top;\n",
       "    }\n",
       "\n",
       "    .dataframe thead th {\n",
       "        text-align: right;\n",
       "    }\n",
       "</style>\n",
       "<table border=\"1\" class=\"dataframe\">\n",
       "  <thead>\n",
       "    <tr style=\"text-align: right;\">\n",
       "      <th></th>\n",
       "      <th>MOVIES</th>\n",
       "      <th>YEAR</th>\n",
       "      <th>GENRE</th>\n",
       "      <th>RATING</th>\n",
       "      <th>ONE-LINE</th>\n",
       "      <th>STARS</th>\n",
       "      <th>VOTES</th>\n",
       "      <th>RunTime</th>\n",
       "      <th>Gross</th>\n",
       "    </tr>\n",
       "  </thead>\n",
       "  <tbody>\n",
       "    <tr>\n",
       "      <th>0</th>\n",
       "      <td>Blood Red Sky</td>\n",
       "      <td>2021</td>\n",
       "      <td>Action, Horror, Thriller</td>\n",
       "      <td>6.1</td>\n",
       "      <td>A woman with a mysterious illness is forced in...</td>\n",
       "      <td>Director: Peter Thorwarth |      Stars: Peri B...</td>\n",
       "      <td>21062</td>\n",
       "      <td>121.0</td>\n",
       "      <td>NaN</td>\n",
       "    </tr>\n",
       "    <tr>\n",
       "      <th>1</th>\n",
       "      <td>Masters of the Universe: Revelation</td>\n",
       "      <td>2021</td>\n",
       "      <td>Animation, Action, Adventure</td>\n",
       "      <td>5.0</td>\n",
       "      <td>The war for Eternia begins again in what may b...</td>\n",
       "      <td>Stars: Chris Wood,  Sarah Michelle Gellar,  Le...</td>\n",
       "      <td>17870</td>\n",
       "      <td>25.0</td>\n",
       "      <td>NaN</td>\n",
       "    </tr>\n",
       "  </tbody>\n",
       "</table>\n",
       "</div>"
      ],
      "text/plain": [
       "                                MOVIES  YEAR                         GENRE  \\\n",
       "0                        Blood Red Sky  2021      Action, Horror, Thriller   \n",
       "1  Masters of the Universe: Revelation  2021  Animation, Action, Adventure   \n",
       "\n",
       "   RATING                                           ONE-LINE  \\\n",
       "0     6.1  A woman with a mysterious illness is forced in...   \n",
       "1     5.0  The war for Eternia begins again in what may b...   \n",
       "\n",
       "                                               STARS  VOTES  RunTime Gross  \n",
       "0  Director: Peter Thorwarth |      Stars: Peri B...  21062    121.0   NaN  \n",
       "1  Stars: Chris Wood,  Sarah Michelle Gellar,  Le...  17870     25.0   NaN  "
      ]
     },
     "execution_count": 55,
     "metadata": {},
     "output_type": "execute_result"
    }
   ],
   "source": [
    "df.head(2)"
   ]
  },
  {
   "cell_type": "code",
   "execution_count": null,
   "id": "d95ff33b-24a3-4018-9caf-f798dee3dc67",
   "metadata": {},
   "outputs": [],
   "source": []
  },
  {
   "cell_type": "code",
   "execution_count": 56,
   "id": "420e3094-ab0e-42e3-9185-86de1cf6ea3e",
   "metadata": {},
   "outputs": [],
   "source": [
    "#filling Rating with 0 because we can't assume votes\n",
    "df.RATING = df.RATING.fillna(0.0)"
   ]
  },
  {
   "cell_type": "code",
   "execution_count": 57,
   "id": "6c48d172-0086-4748-b638-02ff416c5188",
   "metadata": {},
   "outputs": [
    {
     "name": "stdout",
     "output_type": "stream",
     "text": [
      "count    9568.000000\n",
      "mean        5.907201\n",
      "std         2.692988\n",
      "min         0.000000\n",
      "25%         5.500000\n",
      "50%         6.800000\n",
      "75%         7.600000\n",
      "max         9.900000\n",
      "Name: RATING, dtype: float64\n",
      "\n",
      "\n",
      "RATING has 0 missing values!\n"
     ]
    }
   ],
   "source": [
    "#describing to check the statistical summary of data\n",
    "print(df.RATING.describe())\n",
    "print('\\n')\n",
    "print(f'RATING has {df.RATING.isnull().sum()} missing values!')"
   ]
  },
  {
   "cell_type": "markdown",
   "id": "d336bed7-a4ba-4039-aa40-2a391c0c99ad",
   "metadata": {},
   "source": [
    "#### RunTime column"
   ]
  },
  {
   "cell_type": "code",
   "execution_count": 59,
   "id": "af26c6f3-e429-497f-b9f0-8fd13acc8d3f",
   "metadata": {},
   "outputs": [
    {
     "data": {
      "text/html": [
       "<div>\n",
       "<style scoped>\n",
       "    .dataframe tbody tr th:only-of-type {\n",
       "        vertical-align: middle;\n",
       "    }\n",
       "\n",
       "    .dataframe tbody tr th {\n",
       "        vertical-align: top;\n",
       "    }\n",
       "\n",
       "    .dataframe thead th {\n",
       "        text-align: right;\n",
       "    }\n",
       "</style>\n",
       "<table border=\"1\" class=\"dataframe\">\n",
       "  <thead>\n",
       "    <tr style=\"text-align: right;\">\n",
       "      <th></th>\n",
       "      <th>MOVIES</th>\n",
       "      <th>YEAR</th>\n",
       "      <th>GENRE</th>\n",
       "      <th>RATING</th>\n",
       "      <th>ONE-LINE</th>\n",
       "      <th>STARS</th>\n",
       "      <th>VOTES</th>\n",
       "      <th>RunTime</th>\n",
       "      <th>Gross</th>\n",
       "    </tr>\n",
       "  </thead>\n",
       "  <tbody>\n",
       "    <tr>\n",
       "      <th>0</th>\n",
       "      <td>Blood Red Sky</td>\n",
       "      <td>2021</td>\n",
       "      <td>Action, Horror, Thriller</td>\n",
       "      <td>6.1</td>\n",
       "      <td>A woman with a mysterious illness is forced in...</td>\n",
       "      <td>Director: Peter Thorwarth |      Stars: Peri B...</td>\n",
       "      <td>21062</td>\n",
       "      <td>121.0</td>\n",
       "      <td>NaN</td>\n",
       "    </tr>\n",
       "    <tr>\n",
       "      <th>1</th>\n",
       "      <td>Masters of the Universe: Revelation</td>\n",
       "      <td>2021</td>\n",
       "      <td>Animation, Action, Adventure</td>\n",
       "      <td>5.0</td>\n",
       "      <td>The war for Eternia begins again in what may b...</td>\n",
       "      <td>Stars: Chris Wood,  Sarah Michelle Gellar,  Le...</td>\n",
       "      <td>17870</td>\n",
       "      <td>25.0</td>\n",
       "      <td>NaN</td>\n",
       "    </tr>\n",
       "  </tbody>\n",
       "</table>\n",
       "</div>"
      ],
      "text/plain": [
       "                                MOVIES  YEAR                         GENRE  \\\n",
       "0                        Blood Red Sky  2021      Action, Horror, Thriller   \n",
       "1  Masters of the Universe: Revelation  2021  Animation, Action, Adventure   \n",
       "\n",
       "   RATING                                           ONE-LINE  \\\n",
       "0     6.1  A woman with a mysterious illness is forced in...   \n",
       "1     5.0  The war for Eternia begins again in what may b...   \n",
       "\n",
       "                                               STARS  VOTES  RunTime Gross  \n",
       "0  Director: Peter Thorwarth |      Stars: Peri B...  21062    121.0   NaN  \n",
       "1  Stars: Chris Wood,  Sarah Michelle Gellar,  Le...  17870     25.0   NaN  "
      ]
     },
     "execution_count": 59,
     "metadata": {},
     "output_type": "execute_result"
    }
   ],
   "source": [
    "#filling Runtime with 0 because we can't assume runtimme\n",
    "df.RunTime = df.RunTime.fillna(0.0)\n",
    "df.head(2)"
   ]
  },
  {
   "cell_type": "code",
   "execution_count": 60,
   "id": "74796340-87d0-450a-a2ed-c185edb9d54a",
   "metadata": {},
   "outputs": [
    {
     "name": "stdout",
     "output_type": "stream",
     "text": [
      "count    9568.000000\n",
      "mean       50.446279\n",
      "std        50.664321\n",
      "min         0.000000\n",
      "25%         0.000000\n",
      "50%        43.000000\n",
      "75%        87.000000\n",
      "max       853.000000\n",
      "Name: RunTime, dtype: float64\n",
      "\n",
      "\n",
      "RunTime has 0 missing values!\n"
     ]
    }
   ],
   "source": [
    "#describing to check the statistical summary of data\n",
    "#the minimum value is okay because we cannot adjust the votes as there were no voters\n",
    "print(df.RunTime.describe())\n",
    "print('\\n')\n",
    "print(f'RunTime has {df.RunTime.isnull().sum()} missing values!')"
   ]
  },
  {
   "cell_type": "markdown",
   "id": "55ee5220-56dc-4441-bbe6-f08c82aa33e3",
   "metadata": {},
   "source": [
    "### Gross Column"
   ]
  },
  {
   "cell_type": "code",
   "execution_count": 62,
   "id": "d7e1cfe6-6ca0-4bfc-b747-66356252ddcf",
   "metadata": {},
   "outputs": [
    {
     "data": {
      "text/html": [
       "<div>\n",
       "<style scoped>\n",
       "    .dataframe tbody tr th:only-of-type {\n",
       "        vertical-align: middle;\n",
       "    }\n",
       "\n",
       "    .dataframe tbody tr th {\n",
       "        vertical-align: top;\n",
       "    }\n",
       "\n",
       "    .dataframe thead th {\n",
       "        text-align: right;\n",
       "    }\n",
       "</style>\n",
       "<table border=\"1\" class=\"dataframe\">\n",
       "  <thead>\n",
       "    <tr style=\"text-align: right;\">\n",
       "      <th></th>\n",
       "      <th>MOVIES</th>\n",
       "      <th>YEAR</th>\n",
       "      <th>GENRE</th>\n",
       "      <th>RATING</th>\n",
       "      <th>ONE-LINE</th>\n",
       "      <th>STARS</th>\n",
       "      <th>VOTES</th>\n",
       "      <th>RunTime</th>\n",
       "      <th>Gross</th>\n",
       "    </tr>\n",
       "  </thead>\n",
       "  <tbody>\n",
       "  </tbody>\n",
       "</table>\n",
       "</div>"
      ],
      "text/plain": [
       "Empty DataFrame\n",
       "Columns: [MOVIES, YEAR, GENRE, RATING, ONE-LINE, STARS, VOTES, RunTime, Gross]\n",
       "Index: []"
      ]
     },
     "execution_count": 62,
     "metadata": {},
     "output_type": "execute_result"
    }
   ],
   "source": [
    "df.head(0)"
   ]
  },
  {
   "cell_type": "code",
   "execution_count": 63,
   "id": "2bfc4aec-4f2b-4764-a41d-3e0f7d5341f5",
   "metadata": {},
   "outputs": [],
   "source": [
    "df.drop('Gross',axis=1, inplace=True)"
   ]
  },
  {
   "cell_type": "code",
   "execution_count": 64,
   "id": "08997f8d-a173-45dc-8c33-f6c12995dd7d",
   "metadata": {},
   "outputs": [
    {
     "data": {
      "text/html": [
       "<div>\n",
       "<style scoped>\n",
       "    .dataframe tbody tr th:only-of-type {\n",
       "        vertical-align: middle;\n",
       "    }\n",
       "\n",
       "    .dataframe tbody tr th {\n",
       "        vertical-align: top;\n",
       "    }\n",
       "\n",
       "    .dataframe thead th {\n",
       "        text-align: right;\n",
       "    }\n",
       "</style>\n",
       "<table border=\"1\" class=\"dataframe\">\n",
       "  <thead>\n",
       "    <tr style=\"text-align: right;\">\n",
       "      <th></th>\n",
       "      <th>MOVIES</th>\n",
       "      <th>YEAR</th>\n",
       "      <th>GENRE</th>\n",
       "      <th>RATING</th>\n",
       "      <th>ONE-LINE</th>\n",
       "      <th>STARS</th>\n",
       "      <th>VOTES</th>\n",
       "      <th>RunTime</th>\n",
       "    </tr>\n",
       "  </thead>\n",
       "  <tbody>\n",
       "  </tbody>\n",
       "</table>\n",
       "</div>"
      ],
      "text/plain": [
       "Empty DataFrame\n",
       "Columns: [MOVIES, YEAR, GENRE, RATING, ONE-LINE, STARS, VOTES, RunTime]\n",
       "Index: []"
      ]
     },
     "execution_count": 64,
     "metadata": {},
     "output_type": "execute_result"
    }
   ],
   "source": [
    "df.head(0)"
   ]
  },
  {
   "cell_type": "code",
   "execution_count": null,
   "id": "d805b662-7e87-4251-9790-f6b4d9c97342",
   "metadata": {},
   "outputs": [],
   "source": []
  },
  {
   "cell_type": "markdown",
   "id": "defedb62-b3f7-4ea2-8366-61d13798a541",
   "metadata": {},
   "source": [
    "## Handle Numerical Data\n",
    "- Outliers\n",
    "- Distribution"
   ]
  },
  {
   "cell_type": "markdown",
   "id": "d8d09b7b-4300-4500-ac80-b6919cd0660e",
   "metadata": {},
   "source": [
    "### Relationship between variables"
   ]
  },
  {
   "cell_type": "code",
   "execution_count": 67,
   "id": "fa219c76-743d-4f54-807d-eb2e77e88665",
   "metadata": {},
   "outputs": [
    {
     "data": {
      "text/plain": [
       "<seaborn.axisgrid.PairGrid at 0x1e9ae1e3590>"
      ]
     },
     "execution_count": 67,
     "metadata": {},
     "output_type": "execute_result"
    },
    {
     "data": {
      "image/png": "[encoded data removed]",
      "text/plain": [
       "<Figure size 1000x1000 with 20 Axes>"
      ]
     },
     "metadata": {},
     "output_type": "display_data"
    }
   ],
   "source": [
    "#to visualize relationships between variable pairs\n",
    "\n",
    "# plt.figure(figsize=(5,5))\n",
    "sb.pairplot(data=df)\n",
    "# plt.show()"
   ]
  },
  {
   "cell_type": "code",
   "execution_count": 68,
   "id": "09f71ddc-01b1-47df-9fd2-772af38b1627",
   "metadata": {},
   "outputs": [
    {
     "data": {
      "text/plain": [
       "<seaborn.axisgrid.FacetGrid at 0x1e9b5a453d0>"
      ]
     },
     "execution_count": 68,
     "metadata": {},
     "output_type": "execute_result"
    },
    {
     "data": {
      "image/png": "[encoded data removed]",
      "text/plain": [
       "<Figure size 500x500 with 1 Axes>"
      ]
     },
     "metadata": {},
     "output_type": "display_data"
    }
   ],
   "source": [
    "#plotting a displot to visualize the VOTES column\n",
    "#it's plotting the graph using the exponents values of VOTES, hence why it is almost invincible\n",
    "sb.displot(data=df, x='VOTES', kde=True)"
   ]
  },
  {
   "cell_type": "markdown",
   "id": "eacef700-b6e2-4f9a-99d5-e57b5d827b4c",
   "metadata": {},
   "source": [
    "### Outliers - RunTime"
   ]
  },
  {
   "cell_type": "code",
   "execution_count": 70,
   "id": "0a17f146-7d4f-45b2-99b7-7559c51d3785",
   "metadata": {},
   "outputs": [
    {
     "data": {
      "text/html": [
       "<div>\n",
       "<style scoped>\n",
       "    .dataframe tbody tr th:only-of-type {\n",
       "        vertical-align: middle;\n",
       "    }\n",
       "\n",
       "    .dataframe tbody tr th {\n",
       "        vertical-align: top;\n",
       "    }\n",
       "\n",
       "    .dataframe thead th {\n",
       "        text-align: right;\n",
       "    }\n",
       "</style>\n",
       "<table border=\"1\" class=\"dataframe\">\n",
       "  <thead>\n",
       "    <tr style=\"text-align: right;\">\n",
       "      <th></th>\n",
       "      <th>YEAR</th>\n",
       "      <th>RATING</th>\n",
       "      <th>VOTES</th>\n",
       "      <th>RunTime</th>\n",
       "    </tr>\n",
       "  </thead>\n",
       "  <tbody>\n",
       "    <tr>\n",
       "      <th>count</th>\n",
       "      <td>9568.000000</td>\n",
       "      <td>9568.000000</td>\n",
       "      <td>9.568000e+03</td>\n",
       "      <td>9568.000000</td>\n",
       "    </tr>\n",
       "    <tr>\n",
       "      <th>mean</th>\n",
       "      <td>1882.321070</td>\n",
       "      <td>5.907201</td>\n",
       "      <td>1.292847e+04</td>\n",
       "      <td>50.446279</td>\n",
       "    </tr>\n",
       "    <tr>\n",
       "      <th>std</th>\n",
       "      <td>501.936194</td>\n",
       "      <td>2.692988</td>\n",
       "      <td>6.498853e+04</td>\n",
       "      <td>50.664321</td>\n",
       "    </tr>\n",
       "    <tr>\n",
       "      <th>min</th>\n",
       "      <td>0.000000</td>\n",
       "      <td>0.000000</td>\n",
       "      <td>0.000000e+00</td>\n",
       "      <td>0.000000</td>\n",
       "    </tr>\n",
       "    <tr>\n",
       "      <th>25%</th>\n",
       "      <td>2014.000000</td>\n",
       "      <td>5.500000</td>\n",
       "      <td>6.400000e+01</td>\n",
       "      <td>0.000000</td>\n",
       "    </tr>\n",
       "    <tr>\n",
       "      <th>50%</th>\n",
       "      <td>2018.000000</td>\n",
       "      <td>6.800000</td>\n",
       "      <td>4.895000e+02</td>\n",
       "      <td>43.000000</td>\n",
       "    </tr>\n",
       "    <tr>\n",
       "      <th>75%</th>\n",
       "      <td>2020.000000</td>\n",
       "      <td>7.600000</td>\n",
       "      <td>2.903000e+03</td>\n",
       "      <td>87.000000</td>\n",
       "    </tr>\n",
       "    <tr>\n",
       "      <th>max</th>\n",
       "      <td>2023.000000</td>\n",
       "      <td>9.900000</td>\n",
       "      <td>1.713028e+06</td>\n",
       "      <td>853.000000</td>\n",
       "    </tr>\n",
       "  </tbody>\n",
       "</table>\n",
       "</div>"
      ],
      "text/plain": [
       "              YEAR       RATING         VOTES      RunTime\n",
       "count  9568.000000  9568.000000  9.568000e+03  9568.000000\n",
       "mean   1882.321070     5.907201  1.292847e+04    50.446279\n",
       "std     501.936194     2.692988  6.498853e+04    50.664321\n",
       "min       0.000000     0.000000  0.000000e+00     0.000000\n",
       "25%    2014.000000     5.500000  6.400000e+01     0.000000\n",
       "50%    2018.000000     6.800000  4.895000e+02    43.000000\n",
       "75%    2020.000000     7.600000  2.903000e+03    87.000000\n",
       "max    2023.000000     9.900000  1.713028e+06   853.000000"
      ]
     },
     "execution_count": 70,
     "metadata": {},
     "output_type": "execute_result"
    }
   ],
   "source": [
    "df.describe()"
   ]
  },
  {
   "cell_type": "code",
   "execution_count": 71,
   "id": "7b3232e6-156b-4231-8659-531d367c5aaf",
   "metadata": {},
   "outputs": [
    {
     "data": {
      "text/plain": [
       "192.98999999999978"
      ]
     },
     "execution_count": 71,
     "metadata": {},
     "output_type": "execute_result"
    }
   ],
   "source": [
    "#finding the upper percentile for RunTime\n",
    "up = np.percentile(df.RunTime,[99])[0]\n",
    "up"
   ]
  },
  {
   "cell_type": "code",
   "execution_count": 72,
   "id": "6d82a0b1-1114-4b4d-9acb-c8485cfdf285",
   "metadata": {},
   "outputs": [
    {
     "data": {
      "text/html": [
       "<div>\n",
       "<style scoped>\n",
       "    .dataframe tbody tr th:only-of-type {\n",
       "        vertical-align: middle;\n",
       "    }\n",
       "\n",
       "    .dataframe tbody tr th {\n",
       "        vertical-align: top;\n",
       "    }\n",
       "\n",
       "    .dataframe thead th {\n",
       "        text-align: right;\n",
       "    }\n",
       "</style>\n",
       "<table border=\"1\" class=\"dataframe\">\n",
       "  <thead>\n",
       "    <tr style=\"text-align: right;\">\n",
       "      <th></th>\n",
       "      <th>MOVIES</th>\n",
       "      <th>YEAR</th>\n",
       "      <th>GENRE</th>\n",
       "      <th>RATING</th>\n",
       "      <th>ONE-LINE</th>\n",
       "      <th>STARS</th>\n",
       "      <th>VOTES</th>\n",
       "      <th>RunTime</th>\n",
       "    </tr>\n",
       "  </thead>\n",
       "  <tbody>\n",
       "    <tr>\n",
       "      <th>60</th>\n",
       "      <td>The Queen's Gambit</td>\n",
       "      <td>2020</td>\n",
       "      <td>Drama</td>\n",
       "      <td>8.6</td>\n",
       "      <td>Orphaned at the tender age of nine, prodigious...</td>\n",
       "      <td>Stars: Anya Taylor-Joy,  Chloe Pirrie,  Bill C...</td>\n",
       "      <td>336801</td>\n",
       "      <td>395.0</td>\n",
       "    </tr>\n",
       "    <tr>\n",
       "      <th>191</th>\n",
       "      <td>The Irishman</td>\n",
       "      <td>2019</td>\n",
       "      <td>Biography, Crime, Drama</td>\n",
       "      <td>7.8</td>\n",
       "      <td>Hitman Frank Sheeran looks back at the secrets...</td>\n",
       "      <td>Director: Martin Scorsese |      Stars: Robert...</td>\n",
       "      <td>345455</td>\n",
       "      <td>209.0</td>\n",
       "    </tr>\n",
       "    <tr>\n",
       "      <th>193</th>\n",
       "      <td>The Lord of the Rings: The Return of the King</td>\n",
       "      <td>2003</td>\n",
       "      <td>Action, Adventure, Drama</td>\n",
       "      <td>8.9</td>\n",
       "      <td>Gandalf and Aragorn lead the World of Men agai...</td>\n",
       "      <td>Director: Peter Jackson |      Stars: Elijah W...</td>\n",
       "      <td>1691777</td>\n",
       "      <td>201.0</td>\n",
       "    </tr>\n",
       "    <tr>\n",
       "      <th>201</th>\n",
       "      <td>The Haunting of Hill House</td>\n",
       "      <td>2018</td>\n",
       "      <td>Drama, Horror, Mystery</td>\n",
       "      <td>8.6</td>\n",
       "      <td>Flashing between past and present, a fractured...</td>\n",
       "      <td>Stars: Michiel Huisman,  Carla Gugino,  Henry ...</td>\n",
       "      <td>195117</td>\n",
       "      <td>572.0</td>\n",
       "    </tr>\n",
       "    <tr>\n",
       "      <th>207</th>\n",
       "      <td>El inocente</td>\n",
       "      <td>2021</td>\n",
       "      <td>Crime, Drama, Mystery</td>\n",
       "      <td>7.9</td>\n",
       "      <td>An accidental killing leads a man down a dark ...</td>\n",
       "      <td>Stars: Mario Casas,  Xavi Sáez,  Santi Pons,  ...</td>\n",
       "      <td>19980</td>\n",
       "      <td>467.0</td>\n",
       "    </tr>\n",
       "    <tr>\n",
       "      <th>...</th>\n",
       "      <td>...</td>\n",
       "      <td>...</td>\n",
       "      <td>...</td>\n",
       "      <td>...</td>\n",
       "      <td>...</td>\n",
       "      <td>...</td>\n",
       "      <td>...</td>\n",
       "      <td>...</td>\n",
       "    </tr>\n",
       "    <tr>\n",
       "      <th>3941</th>\n",
       "      <td>My Love: Six Stories of True Love</td>\n",
       "      <td>2021</td>\n",
       "      <td>Documentary, Romance</td>\n",
       "      <td>7.5</td>\n",
       "      <td>Six longtime couples in different parts of the...</td>\n",
       "      <td>Stars: Arya,  Asmita,  David Isham,  Ginger Isham</td>\n",
       "      <td>228</td>\n",
       "      <td>418.0</td>\n",
       "    </tr>\n",
       "    <tr>\n",
       "      <th>4064</th>\n",
       "      <td>Bobby Kennedy for President</td>\n",
       "      <td>2018</td>\n",
       "      <td>Documentary, Biography, Drama</td>\n",
       "      <td>8.2</td>\n",
       "      <td>This four-part documentary series weaves toget...</td>\n",
       "      <td>Stars: Peter Edelman,  Paul Schrade,  William ...</td>\n",
       "      <td>1601</td>\n",
       "      <td>245.0</td>\n",
       "    </tr>\n",
       "    <tr>\n",
       "      <th>4333</th>\n",
       "      <td>The Oscars</td>\n",
       "      <td>2017</td>\n",
       "      <td>Music</td>\n",
       "      <td>6.7</td>\n",
       "      <td>The 89th Annual Academy Awards ceremony celebr...</td>\n",
       "      <td>Director: Glenn Weiss |      Stars: Jimmy Kimm...</td>\n",
       "      <td>1901</td>\n",
       "      <td>229.0</td>\n",
       "    </tr>\n",
       "    <tr>\n",
       "      <th>4646</th>\n",
       "      <td>Nisman</td>\n",
       "      <td>2019</td>\n",
       "      <td>Documentary, Crime, History</td>\n",
       "      <td>7.7</td>\n",
       "      <td>The suspicious death of Alberto Nisman, invest...</td>\n",
       "      <td>Stars: Laura Alonso,  James Bernazzani,  Sergi...</td>\n",
       "      <td>515</td>\n",
       "      <td>373.0</td>\n",
       "    </tr>\n",
       "    <tr>\n",
       "      <th>5231</th>\n",
       "      <td>Madrasat El-Moshaghebeen</td>\n",
       "      <td>1973</td>\n",
       "      <td>Comedy, Drama, Musical</td>\n",
       "      <td>6.3</td>\n",
       "      <td>The relationships and difficulties that's faci...</td>\n",
       "      <td>Director: Houssam El-Din Mustafa |      Stars:...</td>\n",
       "      <td>323</td>\n",
       "      <td>252.0</td>\n",
       "    </tr>\n",
       "  </tbody>\n",
       "</table>\n",
       "<p>96 rows × 8 columns</p>\n",
       "</div>"
      ],
      "text/plain": [
       "                                             MOVIES  YEAR  \\\n",
       "60                               The Queen's Gambit  2020   \n",
       "191                                    The Irishman  2019   \n",
       "193   The Lord of the Rings: The Return of the King  2003   \n",
       "201                      The Haunting of Hill House  2018   \n",
       "207                                     El inocente  2021   \n",
       "...                                             ...   ...   \n",
       "3941              My Love: Six Stories of True Love  2021   \n",
       "4064                    Bobby Kennedy for President  2018   \n",
       "4333                                     The Oscars  2017   \n",
       "4646                                         Nisman  2019   \n",
       "5231                       Madrasat El-Moshaghebeen  1973   \n",
       "\n",
       "                              GENRE  RATING  \\\n",
       "60                            Drama     8.6   \n",
       "191         Biography, Crime, Drama     7.8   \n",
       "193        Action, Adventure, Drama     8.9   \n",
       "201          Drama, Horror, Mystery     8.6   \n",
       "207           Crime, Drama, Mystery     7.9   \n",
       "...                             ...     ...   \n",
       "3941           Documentary, Romance     7.5   \n",
       "4064  Documentary, Biography, Drama     8.2   \n",
       "4333                          Music     6.7   \n",
       "4646    Documentary, Crime, History     7.7   \n",
       "5231         Comedy, Drama, Musical     6.3   \n",
       "\n",
       "                                               ONE-LINE  \\\n",
       "60    Orphaned at the tender age of nine, prodigious...   \n",
       "191   Hitman Frank Sheeran looks back at the secrets...   \n",
       "193   Gandalf and Aragorn lead the World of Men agai...   \n",
       "201   Flashing between past and present, a fractured...   \n",
       "207   An accidental killing leads a man down a dark ...   \n",
       "...                                                 ...   \n",
       "3941  Six longtime couples in different parts of the...   \n",
       "4064  This four-part documentary series weaves toget...   \n",
       "4333  The 89th Annual Academy Awards ceremony celebr...   \n",
       "4646  The suspicious death of Alberto Nisman, invest...   \n",
       "5231  The relationships and difficulties that's faci...   \n",
       "\n",
       "                                                  STARS    VOTES  RunTime  \n",
       "60    Stars: Anya Taylor-Joy,  Chloe Pirrie,  Bill C...   336801    395.0  \n",
       "191   Director: Martin Scorsese |      Stars: Robert...   345455    209.0  \n",
       "193   Director: Peter Jackson |      Stars: Elijah W...  1691777    201.0  \n",
       "201   Stars: Michiel Huisman,  Carla Gugino,  Henry ...   195117    572.0  \n",
       "207   Stars: Mario Casas,  Xavi Sáez,  Santi Pons,  ...    19980    467.0  \n",
       "...                                                 ...      ...      ...  \n",
       "3941  Stars: Arya,  Asmita,  David Isham,  Ginger Isham      228    418.0  \n",
       "4064  Stars: Peter Edelman,  Paul Schrade,  William ...     1601    245.0  \n",
       "4333  Director: Glenn Weiss |      Stars: Jimmy Kimm...     1901    229.0  \n",
       "4646  Stars: Laura Alonso,  James Bernazzani,  Sergi...      515    373.0  \n",
       "5231  Director: Houssam El-Din Mustafa |      Stars:...      323    252.0  \n",
       "\n",
       "[96 rows x 8 columns]"
      ]
     },
     "execution_count": 72,
     "metadata": {},
     "output_type": "execute_result"
    }
   ],
   "source": [
    "#checking to see the rows greater than the upper value\n",
    "df[df.RunTime > up]"
   ]
  },
  {
   "cell_type": "code",
   "execution_count": 73,
   "id": "304bed4b-a91c-4c4e-bcb8-69c3266b2e93",
   "metadata": {},
   "outputs": [
    {
     "data": {
      "text/html": [
       "<div>\n",
       "<style scoped>\n",
       "    .dataframe tbody tr th:only-of-type {\n",
       "        vertical-align: middle;\n",
       "    }\n",
       "\n",
       "    .dataframe tbody tr th {\n",
       "        vertical-align: top;\n",
       "    }\n",
       "\n",
       "    .dataframe thead th {\n",
       "        text-align: right;\n",
       "    }\n",
       "</style>\n",
       "<table border=\"1\" class=\"dataframe\">\n",
       "  <thead>\n",
       "    <tr style=\"text-align: right;\">\n",
       "      <th></th>\n",
       "      <th>MOVIES</th>\n",
       "      <th>YEAR</th>\n",
       "      <th>GENRE</th>\n",
       "      <th>RATING</th>\n",
       "      <th>ONE-LINE</th>\n",
       "      <th>STARS</th>\n",
       "      <th>VOTES</th>\n",
       "      <th>RunTime</th>\n",
       "    </tr>\n",
       "  </thead>\n",
       "  <tbody>\n",
       "    <tr>\n",
       "      <th>1081</th>\n",
       "      <td>Soupçons</td>\n",
       "      <td>2004</td>\n",
       "      <td>Documentary, Crime, Drama</td>\n",
       "      <td>7.9</td>\n",
       "      <td>The high-profile murder trial of American nove...</td>\n",
       "      <td>Stars: Michael Peterson,  David Rudolf,  Ron G...</td>\n",
       "      <td>20200</td>\n",
       "      <td>629.0</td>\n",
       "    </tr>\n",
       "    <tr>\n",
       "      <th>1902</th>\n",
       "      <td>El tiempo entre costuras</td>\n",
       "      <td>2013</td>\n",
       "      <td>Adventure, Drama, History</td>\n",
       "      <td>8.3</td>\n",
       "      <td>Sira Quiroga is a young Spanish dressmaker eng...</td>\n",
       "      <td>Stars: Adriana Ugarte,  Mari Carmen Sánchez,  ...</td>\n",
       "      <td>3876</td>\n",
       "      <td>853.0</td>\n",
       "    </tr>\n",
       "  </tbody>\n",
       "</table>\n",
       "</div>"
      ],
      "text/plain": [
       "                        MOVIES  YEAR                      GENRE  RATING  \\\n",
       "1081                  Soupçons  2004  Documentary, Crime, Drama     7.9   \n",
       "1902  El tiempo entre costuras  2013  Adventure, Drama, History     8.3   \n",
       "\n",
       "                                               ONE-LINE  \\\n",
       "1081  The high-profile murder trial of American nove...   \n",
       "1902  Sira Quiroga is a young Spanish dressmaker eng...   \n",
       "\n",
       "                                                  STARS  VOTES  RunTime  \n",
       "1081  Stars: Michael Peterson,  David Rudolf,  Ron G...  20200    629.0  \n",
       "1902  Stars: Adriana Ugarte,  Mari Carmen Sánchez,  ...   3876    853.0  "
      ]
     },
     "execution_count": 73,
     "metadata": {},
     "output_type": "execute_result"
    }
   ],
   "source": [
    "#checking to see the rows greater than the upper value\n",
    "df[df.RunTime > 3 * up]"
   ]
  },
  {
   "cell_type": "code",
   "execution_count": 74,
   "id": "daacf05d-5bab-42f1-bb40-87c7abf625f6",
   "metadata": {},
   "outputs": [],
   "source": [
    "df.loc[df.RunTime > 3*up, 'RunTime'] = 3*up"
   ]
  },
  {
   "cell_type": "code",
   "execution_count": 75,
   "id": "e4b5f89d-019b-446a-8594-ba63e2a42476",
   "metadata": {},
   "outputs": [
    {
     "data": {
      "text/plain": [
       "count    9568.000000\n",
       "mean       50.412410\n",
       "std        50.229041\n",
       "min         0.000000\n",
       "25%         0.000000\n",
       "50%        43.000000\n",
       "75%        87.000000\n",
       "max       578.970000\n",
       "Name: RunTime, dtype: float64"
      ]
     },
     "execution_count": 75,
     "metadata": {},
     "output_type": "execute_result"
    }
   ],
   "source": [
    "df.RunTime.describe()"
   ]
  },
  {
   "cell_type": "markdown",
   "id": "1204f430-62f3-4042-9ea0-78b68f8b91ac",
   "metadata": {},
   "source": [
    "### Correlation Heatmap for Relationship"
   ]
  },
  {
   "cell_type": "code",
   "execution_count": 77,
   "id": "3f8531b9-8816-4cdc-80ab-efaa5cff3288",
   "metadata": {},
   "outputs": [],
   "source": [
    "#creating numerical columns\n",
    "# numerical_columns = df.select_dtypes(include=['number'])\n",
    "numerical_columns = df[['YEAR','RATING','VOTES','RunTime']]"
   ]
  },
  {
   "cell_type": "code",
   "execution_count": 78,
   "id": "9b06c698-91cc-4511-a0ba-13aec59263b4",
   "metadata": {},
   "outputs": [
    {
     "data": {
      "text/plain": [
       "<function matplotlib.pyplot.show(close=None, block=None)>"
      ]
     },
     "execution_count": 78,
     "metadata": {},
     "output_type": "execute_result"
    },
    {
     "data": {
      "image/png": "[encoded data removed]",
      "text/plain": [
       "<Figure size 1200x1200 with 2 Axes>"
      ]
     },
     "metadata": {},
     "output_type": "display_data"
    }
   ],
   "source": [
    "#calculating correlation for numerical columns\n",
    "corr = numerical_columns.corr()\n",
    "#using numerical columns to plot the heatmap\n",
    "#configuring map size\n",
    "plt.figure(figsize=(12,12))\n",
    "sb.heatmap(corr, cmap='Greens', annot=True)\n",
    "plt.title ('Correlation Heatmap for Numerical Data of Movies Dataset')\n",
    "plt.show"
   ]
  },
  {
   "cell_type": "markdown",
   "id": "813fe560-c9e5-4b38-be94-e35ec0e4d66b",
   "metadata": {},
   "source": [
    "### Printing a clean copy of the dataset"
   ]
  },
  {
   "cell_type": "code",
   "execution_count": 80,
   "id": "041fc5c0-3e45-48a6-b372-7b70c9d676a8",
   "metadata": {},
   "outputs": [],
   "source": [
    "#to_csv\n",
    "df.to_csv(\"MoviesCleaned.csv\", index = False)"
   ]
  },
  {
   "cell_type": "code",
   "execution_count": null,
   "id": "c8b8fc66-d680-4080-b6cd-eb1266ba4840",
   "metadata": {},
   "outputs": [],
   "source": []
  }
 ],
 "metadata": {
  "kernelspec": {
   "display_name": "Python 3 (ipykernel)",
   "language": "python",
   "name": "python3"
  },
  "language_info": {
   "codemirror_mode": {
    "name": "ipython",
    "version": 3
   },
   "file_extension": ".py",
   "mimetype": "text/x-python",
   "name": "python",
   "nbconvert_exporter": "python",
   "pygments_lexer": "ipython3",
   "version": "3.11.7"
  }
 },
 "nbformat": 4,
 "nbformat_minor": 5
}
